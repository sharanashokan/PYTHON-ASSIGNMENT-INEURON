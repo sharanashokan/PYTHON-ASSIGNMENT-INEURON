{
 "cells": [
  {
   "cell_type": "markdown",
   "id": "97eeaae6",
   "metadata": {},
   "source": [
    "# 1. In the below elements which of them are values or an expression? \n",
    "eg:- values can be\n",
    "integer or string and expressions will be mathematical operators.\n",
    "*\n",
    "'hello\n",
    "-87.8\n",
    "-\n",
    "/\n",
    "+\n",
    "6"
   ]
  },
  {
   "cell_type": "markdown",
   "id": "53e9380f",
   "metadata": {},
   "source": [
    "# ANSWER"
   ]
  },
  {
   "cell_type": "raw",
   "id": "5c89bd25",
   "metadata": {},
   "source": [
    "VALUE\n",
    "\n",
    "-87.8 is an float\n",
    "6 is an integer\n",
    "'hello' is a string\n",
    "\n",
    "\n",
    "EXPRESSION\n",
    "\n",
    "* is a multiplication expression\n",
    "/ is a division expression\n",
    "+ is a addition expression\n",
    "- is an subraction expression"
   ]
  },
  {
   "cell_type": "markdown",
   "id": "bc587841",
   "metadata": {},
   "source": [
    "# 2. What is the difference between string and variable?"
   ]
  },
  {
   "cell_type": "markdown",
   "id": "fcaf3f12",
   "metadata": {},
   "source": [
    "# ANSWER"
   ]
  },
  {
   "cell_type": "code",
   "execution_count": 1,
   "id": "beffa03e",
   "metadata": {},
   "outputs": [
    {
     "name": "stdout",
     "output_type": "stream",
     "text": [
      "[1, 2, 3, 4, 5]\n"
     ]
    }
   ],
   "source": [
    "#VARIABLE...is like a key word which we can assign some data in it for example A is an varibale\n",
    "A = [1,2,3,4,5]\n",
    "print(A)"
   ]
  },
  {
   "cell_type": "code",
   "execution_count": 2,
   "id": "58d005bf",
   "metadata": {},
   "outputs": [
    {
     "name": "stdout",
     "output_type": "stream",
     "text": [
      "HOW MUCH MONEY DO YOU HAVE?? 100000000000000000000000\n",
      "YOU HAVE MORE MOENY THAN I EXPECTED\n"
     ]
    }
   ],
   "source": [
    "#STRING... is like a word we represent as a data for example  \"inside this parenthesis we can write anything as a string\"\n",
    "a = int(input(\"HOW MUCH MONEY DO YOU HAVE?? \"))\n",
    "if a > 10000:\n",
    "    print(\"YOU HAVE MORE MOENY THAN I EXPECTED\")"
   ]
  },
  {
   "cell_type": "markdown",
   "id": "f48e62bd",
   "metadata": {},
   "source": [
    "# 3. Describe three different data types."
   ]
  },
  {
   "cell_type": "markdown",
   "id": "e5094a0a",
   "metadata": {},
   "source": [
    "# ANSWER"
   ]
  },
  {
   "cell_type": "raw",
   "id": "3ebbb1e4",
   "metadata": {},
   "source": [
    "i can provide four data types\n",
    "\n",
    "1 ,integer = it represent numeric values for          example: 0 , 1, 25 , 99\n",
    "\n",
    "2,string = string is an common words we can keep for        example:  \"hey , how are you?\" \n",
    "    \n",
    "3, Float = float is an type of numeric values which includes decimal point for      example : 0.1 , 7.83 , 4.2345\n",
    "\n",
    "4, boolean = is a type of data which contains true or false,      example : true , false"
   ]
  },
  {
   "cell_type": "markdown",
   "id": "f73effed",
   "metadata": {},
   "source": [
    "# 4. What is an expression made up of? What do all expressions do?"
   ]
  },
  {
   "cell_type": "markdown",
   "id": "23a09380",
   "metadata": {},
   "source": [
    "# ANSWER"
   ]
  },
  {
   "cell_type": "code",
   "execution_count": 3,
   "id": "38683d8a",
   "metadata": {},
   "outputs": [
    {
     "name": "stdout",
     "output_type": "stream",
     "text": [
      "its an odd number\n",
      "its an even number\n",
      "its an odd number\n",
      "its an even number\n",
      "its an odd number\n",
      "its an even number\n",
      "its an odd number\n",
      "its an even number\n",
      "its an odd number\n",
      "its an even number\n"
     ]
    }
   ],
   "source": [
    "#AN EXPRESSION IS MADE OF OPERATORS AND MATHEMATICAL SYMBOLS FOR EXAMPLE\n",
    "A = [1,2,3,4,5,6,7,8,9,10]\n",
    "for i in A:\n",
    "    if i%2==0:\n",
    "        print(\"its an even number\")\n",
    "    else:\n",
    "        print(\"its an odd number\")"
   ]
  },
  {
   "cell_type": "raw",
   "id": "db4e7dcd",
   "metadata": {},
   "source": [
    "in this example we have used mathemaatical symbols such as \n",
    "(% = divide , we can also include AND ,OR , IN OPERATORS)"
   ]
  },
  {
   "cell_type": "markdown",
   "id": "598edf47",
   "metadata": {},
   "source": [
    "# 5. This assignment statements, like spam = 10. What is the difference between an expression and a statement?"
   ]
  },
  {
   "cell_type": "markdown",
   "id": "03d50545",
   "metadata": {},
   "source": [
    "# ANSWER"
   ]
  },
  {
   "cell_type": "raw",
   "id": "d0b4747e",
   "metadata": {},
   "source": [
    "spam = 10    \n",
    "Its like giving the computer an instruction saying, \n",
    "Hey, computer, create a box named 'spam' \n",
    "and put the number 10 inside it.\"\n",
    "\n",
    "SO ITS A STATEMENT , STATEMENT IS LIKE COMMANDING OR A SENTENCES WHICH SAYS US SOMETHING\n",
    "\n",
    "\n",
    "\n",
    "\n",
    "spam = 10\n",
    "spam = spam + spam\n",
    "now it has an expression which is going to do some work or its like asking question.\n",
    "\n",
    "now it some expression which uses mathematical symbol \n",
    "its very  easy to understand\n",
    "\n",
    "\n",
    "\n",
    "\n",
    "STATEMENT IS AN MEANINGFULL SENTENCE\n",
    "\n",
    "EXPRESSION IS CODE WHICH CAN DO SOME WORK OR ANSWER ANY QUESTIONS OR DO SOME TRICKS"
   ]
  },
  {
   "cell_type": "markdown",
   "id": "669755c2",
   "metadata": {},
   "source": [
    "# 6. After running the following code, what does the variable bacon contain?bacon = 22      bacon + 1"
   ]
  },
  {
   "cell_type": "markdown",
   "id": "9321d21b",
   "metadata": {},
   "source": [
    "# ANSWER"
   ]
  },
  {
   "cell_type": "code",
   "execution_count": 5,
   "id": "7909cdaf",
   "metadata": {},
   "outputs": [
    {
     "name": "stdout",
     "output_type": "stream",
     "text": [
      "22\n"
     ]
    }
   ],
   "source": [
    "bacon = 22\n",
    "\n",
    "bacon + 1\n",
    "\n",
    "print(bacon)"
   ]
  },
  {
   "cell_type": "raw",
   "id": "c2ddb7a4",
   "metadata": {},
   "source": [
    "because we assigned a value but we did an expression but we can make it inside a variable \n",
    "so that the variable can store the updated value\n",
    "but we didnt assign a varibale instead we just did an expression"
   ]
  },
  {
   "cell_type": "markdown",
   "id": "e030d33e",
   "metadata": {},
   "source": [
    "# 7. What should the values of the following two terms be?\n",
    "'spam' + 'spamspam' \n",
    "         ,   'spam' * 3"
   ]
  },
  {
   "cell_type": "markdown",
   "id": "a72ccd59",
   "metadata": {},
   "source": [
    "# ANSWER"
   ]
  },
  {
   "cell_type": "code",
   "execution_count": 6,
   "id": "605468a4",
   "metadata": {},
   "outputs": [
    {
     "data": {
      "text/plain": [
       "'spamspamspam'"
      ]
     },
     "execution_count": 6,
     "metadata": {},
     "output_type": "execute_result"
    }
   ],
   "source": [
    "'spam'+ 'spamspam'"
   ]
  },
  {
   "cell_type": "code",
   "execution_count": 8,
   "id": "929d63d5",
   "metadata": {},
   "outputs": [
    {
     "data": {
      "text/plain": [
       "'spamspamspam'"
      ]
     },
     "execution_count": 8,
     "metadata": {},
     "output_type": "execute_result"
    }
   ],
   "source": [
    "'spam' * 3"
   ]
  },
  {
   "cell_type": "raw",
   "id": "e71a5810",
   "metadata": {},
   "source": [
    "SO BOTH GIVE SAME VALUES \"spamspamspam\""
   ]
  },
  {
   "cell_type": "markdown",
   "id": "a47a3025",
   "metadata": {},
   "source": [
    "# 8. Why is eggs a valid variable name while 100 is invalid?"
   ]
  },
  {
   "cell_type": "markdown",
   "id": "82892a2f",
   "metadata": {},
   "source": [
    "# ANSWER"
   ]
  },
  {
   "cell_type": "raw",
   "id": "46c7262c",
   "metadata": {},
   "source": [
    "RULE OF A VARIABLE\n",
    " A VARIABLE MUST START IN   _  OR  LETTER(BOTH UPPER AND LOWER)\n",
    "\n",
    "EGG IS A VALID VARIABLE BECAUSE IT START WITH A LETTER E\n",
    "100 IS NOT A VARIABLE BECAUSE IT START WITH A NUMERICAL VALUE"
   ]
  },
  {
   "cell_type": "markdown",
   "id": "0b765f67",
   "metadata": {},
   "source": [
    "# 9. What three functions can be used to get the integer, floating-point number, or string version of a value?"
   ]
  },
  {
   "cell_type": "markdown",
   "id": "a87a0a1f",
   "metadata": {},
   "source": [
    "# ANSWER"
   ]
  },
  {
   "cell_type": "code",
   "execution_count": 13,
   "id": "45746643",
   "metadata": {},
   "outputs": [
    {
     "name": "stdout",
     "output_type": "stream",
     "text": [
      "101.1 tree\n"
     ]
    }
   ],
   "source": [
    "A = int(100)\n",
    "b = float(1.1)\n",
    "c = str(\"tree\")\n",
    "print(A+b,c)"
   ]
  },
  {
   "cell_type": "code",
   "execution_count": 14,
   "id": "d03650e7",
   "metadata": {},
   "outputs": [
    {
     "data": {
      "text/plain": [
       "''"
      ]
     },
     "execution_count": 14,
     "metadata": {},
     "output_type": "execute_result"
    }
   ],
   "source": [
    "int()\n",
    "float()\n",
    "str()"
   ]
  },
  {
   "cell_type": "markdown",
   "id": "1fb4768f",
   "metadata": {},
   "source": [
    "# 10. Why does this expression cause an error? How can you fix it?   'I have eaten'+99+'burritos.'"
   ]
  },
  {
   "cell_type": "markdown",
   "id": "ebdb6022",
   "metadata": {},
   "source": [
    "# ANSWER"
   ]
  },
  {
   "cell_type": "raw",
   "id": "202269a0",
   "metadata": {},
   "source": [
    "'I have eaten'+99+'burritos.' \n",
    "the problem = is 99 is an integer it will not be concatenated with string"
   ]
  },
  {
   "cell_type": "code",
   "execution_count": 18,
   "id": "88ba7250",
   "metadata": {},
   "outputs": [
    {
     "name": "stdout",
     "output_type": "stream",
     "text": [
      "I have eaten 99 burritos.    because we changed numeric value into string so now we can concatenate both\n"
     ]
    }
   ],
   "source": [
    "fixed = 'I have eaten'+' 99 '+'burritos.'\n",
    "print(fixed,\"   because we changed numeric value into string so now we can concatenate both\")"
   ]
  },
  {
   "cell_type": "markdown",
   "id": "bfd5bfeb",
   "metadata": {},
   "source": [
    "# THANK YOU"
   ]
  }
 ],
 "metadata": {
  "kernelspec": {
   "display_name": "Python 3.11",
   "language": "python",
   "name": "python3.11"
  },
  "language_info": {
   "codemirror_mode": {
    "name": "ipython",
    "version": 3
   },
   "file_extension": ".py",
   "mimetype": "text/x-python",
   "name": "python",
   "nbconvert_exporter": "python",
   "pygments_lexer": "ipython3",
   "version": "3.11.3"
  }
 },
 "nbformat": 4,
 "nbformat_minor": 5
}
