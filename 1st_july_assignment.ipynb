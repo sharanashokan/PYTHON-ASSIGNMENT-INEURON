{
 "cells": [
  {
   "cell_type": "markdown",
   "id": "c4877596",
   "metadata": {},
   "source": [
    "# 1. What is the primary goal of Object-Oriented Programming (OOP)?"
   ]
  },
  {
   "cell_type": "markdown",
   "id": "5f57df2a",
   "metadata": {},
   "source": [
    "# ANSWER"
   ]
  },
  {
   "cell_type": "code",
   "execution_count": 1,
   "id": "9f79acef",
   "metadata": {},
   "outputs": [],
   "source": [
    "#Object-Oriented Programming promotes reuseability , modular ways, real world entites as object\n",
    "#example\n",
    "class car:\n",
    "    def __init__(self,colour,brand,price):\n",
    "        self.colour = colour\n",
    "        self.brand = brand\n",
    "        self.price = price\n",
    "    def _display(self):\n",
    "        print(f\"the price of the {self.colour} colour {self.brand} is {self.price}\")"
   ]
  },
  {
   "cell_type": "code",
   "execution_count": 2,
   "id": "5a6a0696",
   "metadata": {},
   "outputs": [],
   "source": [
    "car = car(\"black\",\"bmw\",5000000)"
   ]
  },
  {
   "cell_type": "code",
   "execution_count": 3,
   "id": "3675b068",
   "metadata": {},
   "outputs": [
    {
     "name": "stdout",
     "output_type": "stream",
     "text": [
      "the price of the black colour bmw is 5000000\n"
     ]
    }
   ],
   "source": [
    "car._display()"
   ]
  },
  {
   "cell_type": "markdown",
   "id": "e33e25d9",
   "metadata": {},
   "source": [
    "# 2. What is an object in Python?"
   ]
  },
  {
   "cell_type": "markdown",
   "id": "5a5e9d39",
   "metadata": {},
   "source": [
    "# ANSWER"
   ]
  },
  {
   "cell_type": "code",
   "execution_count": 4,
   "id": "d4335946",
   "metadata": {},
   "outputs": [],
   "source": [
    "#so i have already created a class now i will define object\n",
    "#we will call the object like car = car()  this is called as object\n",
    "#hence calling object like car._display()"
   ]
  },
  {
   "cell_type": "code",
   "execution_count": 5,
   "id": "f05dcba9",
   "metadata": {},
   "outputs": [],
   "source": [
    "class person:\n",
    "    def __init__(self,first_name,last_name):\n",
    "        self.first_name = first_name\n",
    "        self.last_name = last_name\n",
    "    def info(self):\n",
    "        print(f\"{self.first_name} is my first name and {self.last_name} is my last name\")"
   ]
  },
  {
   "cell_type": "code",
   "execution_count": 6,
   "id": "d4fb1cdf",
   "metadata": {},
   "outputs": [],
   "source": [
    "# we are now going to create a object (instance)\n",
    "person = person(\"sharan\",\"ashokan\")"
   ]
  },
  {
   "cell_type": "code",
   "execution_count": 7,
   "id": "038b973f",
   "metadata": {},
   "outputs": [
    {
     "name": "stdout",
     "output_type": "stream",
     "text": [
      "sharan is my first name and ashokan is my last name\n"
     ]
    }
   ],
   "source": [
    "#now we are going to call object instance \n",
    "person.info()"
   ]
  },
  {
   "cell_type": "markdown",
   "id": "c5420fa9",
   "metadata": {},
   "source": [
    "# 3. What is a class in Python?"
   ]
  },
  {
   "cell_type": "markdown",
   "id": "9d6ad53f",
   "metadata": {},
   "source": [
    "# ANSWER"
   ]
  },
  {
   "cell_type": "code",
   "execution_count": 8,
   "id": "df48a2dd",
   "metadata": {},
   "outputs": [],
   "source": [
    "#a class is a blueprint or a template that defines the structure and behavior of objects. \n",
    "class person:\n",
    "    def __init__(self,first_name,last_name):\n",
    "        self.first_name = first_name\n",
    "        self.last_name = last_name\n",
    "    def info(self):\n",
    "        print(f\"{self.first_name} is my first name and {self.last_name} is my last name\")"
   ]
  },
  {
   "cell_type": "code",
   "execution_count": 9,
   "id": "7eb19300",
   "metadata": {},
   "outputs": [
    {
     "name": "stdout",
     "output_type": "stream",
     "text": [
      "sachin is my first name and tendulkar is my last name\n"
     ]
    }
   ],
   "source": [
    "X = person(\"sachin\",\"tendulkar\")\n",
    "X.info()"
   ]
  },
  {
   "cell_type": "markdown",
   "id": "52e9892f",
   "metadata": {},
   "source": [
    "# 4. What are attributes and methods in a class?"
   ]
  },
  {
   "cell_type": "markdown",
   "id": "1d039898",
   "metadata": {},
   "source": [
    "# ANSWER"
   ]
  },
  {
   "cell_type": "code",
   "execution_count": 10,
   "id": "a74f146e",
   "metadata": {},
   "outputs": [
    {
     "name": "stdout",
     "output_type": "stream",
     "text": [
      "Alice\n",
      "30\n"
     ]
    }
   ],
   "source": [
    "class Person:   #def __init__() is called as method . and it is a function inside a class\n",
    "    def __init__(self, name, age):\n",
    "        self.name = name    # 'name' is an attribute\n",
    "        self.age = age      # 'age' is an attribute\n",
    "\n",
    "person1 = Person(\"Alice\", 30)\n",
    "print(person1.name)  \n",
    "print(person1.age)    "
   ]
  },
  {
   "cell_type": "markdown",
   "id": "d1b8a62e",
   "metadata": {},
   "source": [
    "# 5. What is the difference between class variables and instance variables in Python?"
   ]
  },
  {
   "cell_type": "markdown",
   "id": "3e6830d6",
   "metadata": {},
   "source": [
    "# ANSWER"
   ]
  },
  {
   "cell_type": "code",
   "execution_count": 11,
   "id": "0f142268",
   "metadata": {},
   "outputs": [],
   "source": [
    "class car:\n",
    "    wheels = 4  #class vbaribale\n",
    "    def __init__(self,brand):\n",
    "        self.brand = brand   #instance variable\n",
    "    def info(self):\n",
    "        print(f\"the car brand is {self.brand} and it has {wheels} wheels\")"
   ]
  },
  {
   "cell_type": "code",
   "execution_count": 12,
   "id": "d09f3565",
   "metadata": {},
   "outputs": [],
   "source": [
    "#class varibale will be within the class but outside the class we can use class variable making them usable in entire class\n",
    "#but instance varibable is used  inside the instance attribute within the instance class"
   ]
  },
  {
   "cell_type": "markdown",
   "id": "57031460",
   "metadata": {},
   "source": [
    "# 6. What is the purpose of the self parameter in Python class methods?"
   ]
  },
  {
   "cell_type": "markdown",
   "id": "8e26e477",
   "metadata": {},
   "source": [
    "# ANSWER"
   ]
  },
  {
   "cell_type": "code",
   "execution_count": 13,
   "id": "0b5a4e28",
   "metadata": {},
   "outputs": [],
   "source": [
    "class Person:\n",
    "    def __init__(self, name, age):     #so now we have included self parameter\n",
    "        self.name = name               #self.name = name\n",
    "        self.age = age                 #self.age\n",
    "\n",
    "    def say_hello(self):               #if we include self paramtere in this function\n",
    "        print(f\"Hello, my name is {self.name} and I am {self.age} years old.\")#we can include those \n",
    "        #parameters in the old init function .those varibale we can use here to make a proper \n",
    "        #if we use self we can call the variable in any kind of function within the clas\n",
    "\n",
    "    def increment_age(self, years):\n",
    "        self.age += years"
   ]
  },
  {
   "cell_type": "code",
   "execution_count": 14,
   "id": "c23b91f3",
   "metadata": {},
   "outputs": [
    {
     "name": "stdout",
     "output_type": "stream",
     "text": [
      "Hello, my name is sharan and I am 21 years old.\n"
     ]
    }
   ],
   "source": [
    "person = Person(\"sharan\",21)\n",
    "person.say_hello()"
   ]
  },
  {
   "cell_type": "code",
   "execution_count": 15,
   "id": "84055b0a",
   "metadata": {},
   "outputs": [
    {
     "name": "stdout",
     "output_type": "stream",
     "text": [
      "Hello, my name is sharan and I am 22 years old.\n"
     ]
    }
   ],
   "source": [
    "person.increment_age(1)\n",
    "person.say_hello()"
   ]
  },
  {
   "cell_type": "markdown",
   "id": "4661bf50",
   "metadata": {},
   "source": [
    "# 7. For a library management system, you have to design the \"Book\" class with OOP\n",
    "principles in mind. The “Book” class will have following attributes: \n",
    "a. title: Represents the title of the book. b. author: Represents the author(s) of the book. c. isbn: Represents the ISBN (International Standard Book Number) of the book. d. publication_year: Represents the year of publication of the book. e. available_copies: Represents the number of copies available for checkout. The class will also include the following methods: a. check_out(self): Decrements the available copies by one if there are copies available for checkout. b. return_book(self): Increments the available copies by one when a book is returned. c. display_book_info(self): Displays the information about the book, including its attributes and the number of available copies."
   ]
  },
  {
   "cell_type": "markdown",
   "id": "cb4b202b",
   "metadata": {},
   "source": [
    "# ANSWER"
   ]
  },
  {
   "cell_type": "code",
   "execution_count": 16,
   "id": "6e783636",
   "metadata": {},
   "outputs": [],
   "source": [
    "class Book:\n",
    "    def __init__(self,title,author,isbn,publication_year,available_copies):\n",
    "        self.title = title\n",
    "        self.author = author\n",
    "        self.isbn = isbn\n",
    "        self.p_year = publication_year\n",
    "        self.a_copies = available_copies\n",
    "    def check_out(self):\n",
    "        self.a_copies -= 1\n",
    "    def return_book(self):\n",
    "        self.a_copies += 1\n",
    "    def display_book_info(self):\n",
    "        print(f\"\"\" the author of {self.title} is {self.author} and publication year is {self.p_year} and no of copies = {self.a_copies}\n",
    "         the international standard book number is {self.isbn}\"\"\")"
   ]
  },
  {
   "cell_type": "code",
   "execution_count": 17,
   "id": "3a47ade4",
   "metadata": {},
   "outputs": [],
   "source": [
    "books = Book(\"wings of fire\",\"ellen G white\",19293,1996,50)"
   ]
  },
  {
   "cell_type": "code",
   "execution_count": 18,
   "id": "01e2046c",
   "metadata": {},
   "outputs": [
    {
     "name": "stdout",
     "output_type": "stream",
     "text": [
      " the author of wings of fire is ellen G white and publication year is 1996 and no of copies = 49\n",
      "         the international standard book number is 19293\n"
     ]
    }
   ],
   "source": [
    "books.check_out()\n",
    "books.display_book_info()"
   ]
  },
  {
   "cell_type": "code",
   "execution_count": 19,
   "id": "12ebee58",
   "metadata": {},
   "outputs": [
    {
     "name": "stdout",
     "output_type": "stream",
     "text": [
      " the author of wings of fire is ellen G white and publication year is 1996 and no of copies = 50\n",
      "         the international standard book number is 19293\n"
     ]
    }
   ],
   "source": [
    "books.return_book()\n",
    "books.display_book_info()"
   ]
  },
  {
   "cell_type": "markdown",
   "id": "26f2b62b",
   "metadata": {},
   "source": [
    "# 8. For a ticket booking system, you have to design the \"Ticket\" class with OOP\n",
    "principles in mind. The “Ticket” class should have the following attributes:\n",
    "a. ticket_id: Represents the unique identifier for the ticket.\n",
    "b. event_name: Represents the name of the event.\n",
    "c. event_date: Represents the date of the event.\n",
    "d. venue: Represents the venue of the event.\n",
    "e. seat_number: Represents the seat number associated with the ticket.\n",
    "f. price: Represents the price of the ticket.\n",
    "g. is_reserved: Represents the reservation status of the ticket.\n",
    "The class also includes the following methods:\n",
    "a. reserve_ticket(self): Marks the ticket as reserved if it is not already reserved.\n",
    "b. cancel_reservation(self): Cancels the reservation of the ticket if it is already\n",
    "reserved.\n",
    "c. display_ticket_info(self): Displays the information about the ticket, including its\n",
    "attributes and reservation status."
   ]
  },
  {
   "cell_type": "code",
   "execution_count": 20,
   "id": "1fc529ed",
   "metadata": {},
   "outputs": [],
   "source": [
    "class Ticket:\n",
    "    def __init__(self,ticket_id,event_name,event_date,venue,seat_number,price,is_reserved):\n",
    "        self.ticket = ticket_id\n",
    "        self.event = event_name\n",
    "        self.date = event_date\n",
    "        self.venue = venue\n",
    "        self.seat = seat_number\n",
    "        self.price = price\n",
    "        self.reserved = is_reserved\n",
    "    def reserve_ticket(self):\n",
    "        if self.reserved == True:\n",
    "            print(f\"your ticket {self.ticket} is already reserved\")\n",
    "        else:\n",
    "            self.reserved = True\n",
    "            print(f\"your ticket {self.ticket} is reserved now\")\n",
    "    def cancel_reservation(self):\n",
    "        if self.reserved == True:\n",
    "            print(f\"your ticket {self.ticket} cancelled\")\n",
    "            self.reserved = False\n",
    "        else:\n",
    "            print(\"you are not reserved any tickets\")\n",
    "    def display_ticket_info(self):\n",
    "        if self.reserved == True:\n",
    "            print(f\"\"\" your ticket id {self.ticket} event {self.event} in the date of {self.date} venue {self.venue} at seat number {self.seat}of ${self.price} is sucessfully ready\"\"\")\n",
    "        else:\n",
    "            print(\"you are not reserved yet\")"
   ]
  },
  {
   "cell_type": "code",
   "execution_count": 21,
   "id": "a7d2d7d2",
   "metadata": {},
   "outputs": [],
   "source": [
    "hotel = Ticket(19,\"HACKATHON\",'FEB 12th',\"PARIS CORNER\",21,2999,True)"
   ]
  },
  {
   "cell_type": "code",
   "execution_count": 22,
   "id": "aab25054",
   "metadata": {},
   "outputs": [
    {
     "name": "stdout",
     "output_type": "stream",
     "text": [
      " your ticket id 19 event HACKATHON in the date of FEB 12th venue PARIS CORNER at seat number 21of $2999 is sucessfully ready\n"
     ]
    }
   ],
   "source": [
    "hotel.display_ticket_info()"
   ]
  },
  {
   "cell_type": "code",
   "execution_count": 23,
   "id": "9ff7d46b",
   "metadata": {},
   "outputs": [
    {
     "name": "stdout",
     "output_type": "stream",
     "text": [
      "your ticket 19 is already reserved\n"
     ]
    }
   ],
   "source": [
    "hotel.reserve_ticket()"
   ]
  },
  {
   "cell_type": "code",
   "execution_count": 24,
   "id": "57092e57",
   "metadata": {},
   "outputs": [
    {
     "name": "stdout",
     "output_type": "stream",
     "text": [
      "your ticket 19 cancelled\n"
     ]
    }
   ],
   "source": [
    "hotel.cancel_reservation()"
   ]
  },
  {
   "cell_type": "code",
   "execution_count": 25,
   "id": "4f0cb3cd",
   "metadata": {},
   "outputs": [
    {
     "name": "stdout",
     "output_type": "stream",
     "text": [
      "you are not reserved yet\n"
     ]
    }
   ],
   "source": [
    "hotel.display_ticket_info()"
   ]
  },
  {
   "cell_type": "markdown",
   "id": "b11a89df",
   "metadata": {},
   "source": [
    "# 9. You are creating a shopping cart for an e-commerce website. Using OOP to model\n",
    "the \"ShoppingCart\" functionality the class should contain following attributes and\n",
    "methods:\n",
    "a. items: Represents the list of items in the shopping cart.\n",
    "The class also includes the following methods:\n",
    "\n",
    "a. add_item(self, item): Adds an item to the shopping cart by appending it to the\n",
    "list of items.\n",
    "b. remove_item(self, item): Removes an item from the shopping cart if it exists in\n",
    "the list.\n",
    "c. view_cart(self): Displays the items currently present in the shopping cart.\n",
    "d. clear_cart(self): Clears all items from the shopping cart by reassigning an\n",
    "empty list to the items attribute."
   ]
  },
  {
   "cell_type": "markdown",
   "id": "1c4b62a2",
   "metadata": {},
   "source": [
    "# ANSWER"
   ]
  },
  {
   "cell_type": "code",
   "execution_count": 26,
   "id": "fa556788",
   "metadata": {},
   "outputs": [],
   "source": [
    "class shopping_cart:\n",
    "    def __init__(self):\n",
    "        self.item = []\n",
    "    def add_item(self,item):\n",
    "        self.item.append(item)\n",
    "        print(f\"you have successfully added the item **{item}** to your cart\")\n",
    "    def remove_item(self,item):\n",
    "        if item in self.item:\n",
    "            self.item.remove(item)\n",
    "            print(f\"you have successfully remove the item **{item}** to your cart\")\n",
    "        else:\n",
    "            print(f\"there is no item named {item}\")\n",
    "    def view_cart(self):\n",
    "        if len(self.item) == 0:\n",
    "            print(\"sorry you dont have any items in your cart\")\n",
    "        else:\n",
    "            print(f\"you cart have {self.item}.....be happy and keep shopping \")\n",
    "    def clear_cart(self):\n",
    "        if len(self.item)== 0:\n",
    "            print(\"there is no item in your cart\")\n",
    "        else:\n",
    "            self.item.clear()\n",
    "            print(\"Your cart is now empty.\")"
   ]
  },
  {
   "cell_type": "code",
   "execution_count": 27,
   "id": "7f69ccbd",
   "metadata": {},
   "outputs": [],
   "source": [
    "shop = shopping_cart()"
   ]
  },
  {
   "cell_type": "code",
   "execution_count": 28,
   "id": "f0956566",
   "metadata": {},
   "outputs": [
    {
     "name": "stdout",
     "output_type": "stream",
     "text": [
      "you have successfully added the item **tooth paste** to your cart\n"
     ]
    }
   ],
   "source": [
    "shop.add_item(\"tooth paste\")"
   ]
  },
  {
   "cell_type": "code",
   "execution_count": 29,
   "id": "93c96a2c",
   "metadata": {},
   "outputs": [
    {
     "name": "stdout",
     "output_type": "stream",
     "text": [
      "you have successfully added the item **brush** to your cart\n",
      "you have successfully added the item **soap** to your cart\n",
      "you have successfully added the item **perfume** to your cart\n",
      "you have successfully added the item **coffee cup** to your cart\n",
      "you have successfully added the item **headphone** to your cart\n"
     ]
    }
   ],
   "source": [
    "x = [\"brush\",\"soap\",\"perfume\",\"coffee cup\",\"headphone\"]\n",
    "for i in x:\n",
    "    shop.add_item(i)"
   ]
  },
  {
   "cell_type": "code",
   "execution_count": 30,
   "id": "cceb4f98",
   "metadata": {},
   "outputs": [
    {
     "name": "stdout",
     "output_type": "stream",
     "text": [
      "you cart have ['tooth paste', 'brush', 'soap', 'perfume', 'coffee cup', 'headphone'].....be happy and keep shopping \n"
     ]
    }
   ],
   "source": [
    "shop.view_cart()"
   ]
  },
  {
   "cell_type": "code",
   "execution_count": 31,
   "id": "2ad11ac6",
   "metadata": {},
   "outputs": [
    {
     "name": "stdout",
     "output_type": "stream",
     "text": [
      "you have successfully remove the item **brush** to your cart\n"
     ]
    }
   ],
   "source": [
    "shop.remove_item(\"brush\")"
   ]
  },
  {
   "cell_type": "code",
   "execution_count": 32,
   "id": "029f819e",
   "metadata": {},
   "outputs": [
    {
     "name": "stdout",
     "output_type": "stream",
     "text": [
      "there is no item named cat\n"
     ]
    }
   ],
   "source": [
    "shop.remove_item(\"cat\")"
   ]
  },
  {
   "cell_type": "code",
   "execution_count": 33,
   "id": "98b1d02a",
   "metadata": {},
   "outputs": [
    {
     "name": "stdout",
     "output_type": "stream",
     "text": [
      "Your cart is now empty.\n"
     ]
    }
   ],
   "source": [
    "shop.clear_cart()"
   ]
  },
  {
   "cell_type": "code",
   "execution_count": 34,
   "id": "72975dfa",
   "metadata": {},
   "outputs": [
    {
     "name": "stdout",
     "output_type": "stream",
     "text": [
      "there is no item in your cart\n"
     ]
    }
   ],
   "source": [
    "shop.clear_cart()"
   ]
  },
  {
   "cell_type": "markdown",
   "id": "c7d22021",
   "metadata": {},
   "source": [
    "# 10. Imagine a school management system. You have to design the \"Student\" class using\n",
    "OOP concepts.The “Student” class has the following attributes:\n",
    "a. name: Represents the name of the student.\n",
    "b. age: Represents the age of the student.\n",
    "c. grade: Represents the grade or class of the student.\n",
    "d. student_id: Represents the unique identifier for the student.\n",
    "e. attendance: Represents the attendance record of the student.\n",
    "The class should also include the following methods:\n",
    "a. update_attendance(self, date, status): Updates the attendance record of the\n",
    "student for a given date with the provided status (e.g., present or absent).\n",
    "b. get_attendance(self): Returns the attendance record of the student.\n",
    "c. get_average_attendance(self): Calculates and returns the average\n",
    "attendance percentage of the student based on their attendance record."
   ]
  },
  {
   "cell_type": "markdown",
   "id": "e37007ba",
   "metadata": {},
   "source": [
    "# ANSWER"
   ]
  },
  {
   "cell_type": "code",
   "execution_count": 63,
   "id": "ef72571d",
   "metadata": {},
   "outputs": [],
   "source": [
    "class student:\n",
    "    def __init__(self,name,age,grade,student_id):\n",
    "        self.name = name\n",
    "        self.age = age\n",
    "        self.grade = grade\n",
    "        self.student_id = student_id\n",
    "        self.attendance = {}\n",
    "    def update_attendance(self,date,status):\n",
    "        self.attendance[date]= status\n",
    "    def get_attendance(self):\n",
    "        print(self.attendance)\n",
    "    def get_average_attendance(self):\n",
    "        total_days = len(self.attendance)\n",
    "        present_days= sum(status==\"present\" for status in self.attendance.values())\n",
    "        average_attendance = (present_days/total_days)*100 if total_days else 0\n",
    "        return average_attendance"
   ]
  },
  {
   "cell_type": "code",
   "execution_count": 64,
   "id": "d8e45c24",
   "metadata": {},
   "outputs": [],
   "source": [
    "stu = student(\"sharan\",21,'A++',624003)"
   ]
  },
  {
   "cell_type": "code",
   "execution_count": 65,
   "id": "7ae0dd72",
   "metadata": {},
   "outputs": [],
   "source": [
    "for i in range(13,29):\n",
    "    stu.update_attendance(f\"{i}/02/2002\",\"present\")"
   ]
  },
  {
   "cell_type": "code",
   "execution_count": 66,
   "id": "b075ed77",
   "metadata": {},
   "outputs": [
    {
     "name": "stdout",
     "output_type": "stream",
     "text": [
      "{'13/02/2002': 'present', '14/02/2002': 'present', '15/02/2002': 'present', '16/02/2002': 'present', '17/02/2002': 'present', '18/02/2002': 'present', '19/02/2002': 'present', '20/02/2002': 'present', '21/02/2002': 'present', '22/02/2002': 'present', '23/02/2002': 'present', '24/02/2002': 'present', '25/02/2002': 'present', '26/02/2002': 'present', '27/02/2002': 'present', '28/02/2002': 'present'}\n"
     ]
    }
   ],
   "source": [
    "stu.get_attendance()"
   ]
  },
  {
   "cell_type": "code",
   "execution_count": 67,
   "id": "bf03d131",
   "metadata": {},
   "outputs": [],
   "source": [
    "for i in range(1,14):\n",
    "    stu.update_attendance(f\"{i}/03/2002\",\"absent\")"
   ]
  },
  {
   "cell_type": "code",
   "execution_count": 68,
   "id": "dd5bb5bc",
   "metadata": {},
   "outputs": [
    {
     "name": "stdout",
     "output_type": "stream",
     "text": [
      "{'13/02/2002': 'present', '14/02/2002': 'present', '15/02/2002': 'present', '16/02/2002': 'present', '17/02/2002': 'present', '18/02/2002': 'present', '19/02/2002': 'present', '20/02/2002': 'present', '21/02/2002': 'present', '22/02/2002': 'present', '23/02/2002': 'present', '24/02/2002': 'present', '25/02/2002': 'present', '26/02/2002': 'present', '27/02/2002': 'present', '28/02/2002': 'present', '1/03/2002': 'absent', '2/03/2002': 'absent', '3/03/2002': 'absent', '4/03/2002': 'absent', '5/03/2002': 'absent', '6/03/2002': 'absent', '7/03/2002': 'absent', '8/03/2002': 'absent', '9/03/2002': 'absent', '10/03/2002': 'absent', '11/03/2002': 'absent', '12/03/2002': 'absent', '13/03/2002': 'absent'}\n"
     ]
    }
   ],
   "source": [
    "stu.get_attendance()"
   ]
  },
  {
   "cell_type": "code",
   "execution_count": 69,
   "id": "ec68aca0",
   "metadata": {},
   "outputs": [
    {
     "data": {
      "text/plain": [
       "55.172413793103445"
      ]
     },
     "execution_count": 69,
     "metadata": {},
     "output_type": "execute_result"
    }
   ],
   "source": [
    "stu.get_average_attendance()"
   ]
  }
 ],
 "metadata": {
  "kernelspec": {
   "display_name": "Python 3.11",
   "language": "python",
   "name": "python3.11"
  },
  "language_info": {
   "codemirror_mode": {
    "name": "ipython",
    "version": 3
   },
   "file_extension": ".py",
   "mimetype": "text/x-python",
   "name": "python",
   "nbconvert_exporter": "python",
   "pygments_lexer": "ipython3",
   "version": "3.11.3"
  }
 },
 "nbformat": 4,
 "nbformat_minor": 5
}
