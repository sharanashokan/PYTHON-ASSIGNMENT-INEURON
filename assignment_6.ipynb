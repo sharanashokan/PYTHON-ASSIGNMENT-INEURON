{
 "cells": [
  {
   "cell_type": "markdown",
   "id": "e50fb962",
   "metadata": {},
   "source": [
    "# Q.1. What are keywords in python? Using the keyword library, print all the python keywords."
   ]
  },
  {
   "cell_type": "markdown",
   "id": "5415d8f6",
   "metadata": {},
   "source": [
    "# ANSWER"
   ]
  },
  {
   "cell_type": "code",
   "execution_count": 1,
   "id": "112b18ae",
   "metadata": {},
   "outputs": [],
   "source": [
    "# key word are also called as reserved words we cannot use to as a varibale\n",
    "# key words have its own works and meanings\n",
    "import keyword"
   ]
  },
  {
   "cell_type": "code",
   "execution_count": 3,
   "id": "3ceeab43",
   "metadata": {},
   "outputs": [
    {
     "name": "stdout",
     "output_type": "stream",
     "text": [
      "['False', 'None', 'True', 'and', 'as', 'assert', 'async', 'await', 'break', 'class', 'continue', 'def', 'del', 'elif', 'else', 'except', 'finally', 'for', 'from', 'global', 'if', 'import', 'in', 'is', 'lambda', 'nonlocal', 'not', 'or', 'pass', 'raise', 'return', 'try', 'while', 'with', 'yield']\n"
     ]
    }
   ],
   "source": [
    "print(keyword.kwlist)"
   ]
  },
  {
   "cell_type": "markdown",
   "id": "d707dc39",
   "metadata": {},
   "source": [
    "# Q.2. What are the rules to create variables in python?"
   ]
  },
  {
   "cell_type": "markdown",
   "id": "0c2d5f11",
   "metadata": {},
   "source": [
    "# ANSWER"
   ]
  },
  {
   "cell_type": "code",
   "execution_count": 5,
   "id": "56605aa6",
   "metadata": {},
   "outputs": [],
   "source": [
    "#variable name starts with a word or underscore\n",
    "#variable name must not include keywords or any other reserved words\n",
    "#Variable names cannot contain spaces or special characters like !, @, #, $, %, etc.\n",
    "#valid variable name =\n",
    "hello = \"hello 123 mic testing\"\n",
    "_hello = \"hello again 123 mic testing\""
   ]
  },
  {
   "cell_type": "code",
   "execution_count": 6,
   "id": "1547474f",
   "metadata": {},
   "outputs": [
    {
     "name": "stdout",
     "output_type": "stream",
     "text": [
      "hello 123 mic testing\n",
      "hello again 123 mic testing\n"
     ]
    }
   ],
   "source": [
    "print(hello)\n",
    "print(_hello)"
   ]
  },
  {
   "cell_type": "markdown",
   "id": "e942461b",
   "metadata": {},
   "source": [
    "# Q.3. What are the standards and conventions followed for the nomenclature of variables in python to improve code readability and maintainability?"
   ]
  },
  {
   "cell_type": "markdown",
   "id": "3c8f28a5",
   "metadata": {},
   "source": [
    "# ANSWER"
   ]
  },
  {
   "cell_type": "code",
   "execution_count": 7,
   "id": "aa5d687b",
   "metadata": {},
   "outputs": [],
   "source": [
    "#use descriptive name \n",
    "\n",
    "phone_number = 9345545898\n",
    "name = \"sharan\"\n",
    "email = \"mr.shanewoodsf@gmail.com\"\n",
    "\n",
    "#use lower case\n",
    "#don't use single letters variables \n",
    "\n",
    "n = \"dont use this method\" \n",
    "name_2 = \"use this method\"\n",
    "\n",
    "#give different name of varibale for different suitability example\n",
    "#if i want to include a phone_number variable i already once included\n",
    "\n",
    "phone_number_2 = 8903120480"
   ]
  },
  {
   "cell_type": "markdown",
   "id": "c2c2a460",
   "metadata": {},
   "source": [
    "# Q.4. What will happen if a keyword is used as a variable name?"
   ]
  },
  {
   "cell_type": "markdown",
   "id": "ee0d9290",
   "metadata": {},
   "source": [
    "# ANSWER"
   ]
  },
  {
   "cell_type": "code",
   "execution_count": 9,
   "id": "880a05c2",
   "metadata": {},
   "outputs": [
    {
     "ename": "SyntaxError",
     "evalue": "cannot assign to True (1650943129.py, line 2)",
     "output_type": "error",
     "traceback": [
      "\u001b[1;36m  Cell \u001b[1;32mIn[9], line 2\u001b[1;36m\u001b[0m\n\u001b[1;33m    True = [123]\u001b[0m\n\u001b[1;37m    ^\u001b[0m\n\u001b[1;31mSyntaxError\u001b[0m\u001b[1;31m:\u001b[0m cannot assign to True\n"
     ]
    }
   ],
   "source": [
    "#we cant use the keyword as a variable example\n",
    "True = [123]"
   ]
  },
  {
   "cell_type": "markdown",
   "id": "d8d6d5d1",
   "metadata": {},
   "source": [
    "# Q.5. For what purpose def keyword is used?"
   ]
  },
  {
   "cell_type": "markdown",
   "id": "9174d8ed",
   "metadata": {},
   "source": [
    "# ANSWER"
   ]
  },
  {
   "cell_type": "code",
   "execution_count": 12,
   "id": "c0bcf238",
   "metadata": {},
   "outputs": [],
   "source": [
    "#def keyword is used to create function example\n",
    "def palindrome(x):\n",
    "    if x == x[::-1]:\n",
    "        print(f\"{x} is a palindrome\")\n",
    "    else:\n",
    "        print(f\"{x} is not a palindrome\")"
   ]
  },
  {
   "cell_type": "code",
   "execution_count": 18,
   "id": "284b276d",
   "metadata": {},
   "outputs": [
    {
     "name": "stdout",
     "output_type": "stream",
     "text": [
      "sharan is not a palindrome\n",
      "science is not a palindrome\n",
      "racecar is a palindrome\n",
      "level is a palindrome\n"
     ]
    }
   ],
   "source": [
    "x = [\"sharan\" ,\"science\" , \"racecar\" , \"level\"]\n",
    "for i in x:\n",
    "    palindrome(i)"
   ]
  },
  {
   "cell_type": "markdown",
   "id": "2ba560b3",
   "metadata": {},
   "source": [
    "# Q.6. What is the operation of this special character ‘\\’?"
   ]
  },
  {
   "cell_type": "markdown",
   "id": "1fb45a99",
   "metadata": {},
   "source": [
    "# ANSWER"
   ]
  },
  {
   "cell_type": "code",
   "execution_count": 19,
   "id": "34794fdd",
   "metadata": {},
   "outputs": [
    {
     "data": {
      "text/plain": [
       "'C:\\\\Users\\\\mrsha'"
      ]
     },
     "execution_count": 19,
     "metadata": {},
     "output_type": "execute_result"
    }
   ],
   "source": [
    "#it is an escape character we can use it like now line \"\\n\"\n",
    "# we can you it for change path\n",
    "import os \n",
    "os.getcwd()"
   ]
  },
  {
   "cell_type": "markdown",
   "id": "01ad6ba8",
   "metadata": {},
   "source": [
    "# Q.7. Give an example of the following conditions: (i) Homogeneous list (ii) Heterogeneous set (iii) Homogeneous tuple"
   ]
  },
  {
   "cell_type": "markdown",
   "id": "4e8237d4",
   "metadata": {},
   "source": [
    "# ANSWER"
   ]
  },
  {
   "cell_type": "code",
   "execution_count": 20,
   "id": "8429fdbe",
   "metadata": {},
   "outputs": [],
   "source": [
    "#(i) Homogeneous list\n",
    "a = [1,2,3,4]\n",
    "b = ['a','b','c']\n",
    "\n",
    "#(ii) Heterogeneous set\n",
    "a = {'a', 12 ,(1,2,3)}\n",
    "\n",
    "#(iii) Homogeneous tuple\n",
    "a = (1,2,3,4,5)\n",
    "b = ('a','b','c','d')"
   ]
  },
  {
   "cell_type": "markdown",
   "id": "4ccbc4ca",
   "metadata": {},
   "source": [
    "# Q.8. Explain the mutable and immutable data types with proper explanation & examples."
   ]
  },
  {
   "cell_type": "markdown",
   "id": "844882c8",
   "metadata": {},
   "source": [
    "# ANSWER"
   ]
  },
  {
   "cell_type": "code",
   "execution_count": 21,
   "id": "55fe7eba",
   "metadata": {},
   "outputs": [],
   "source": [
    "#mutable data types 1,list 2,dictionary    \n",
    "#example\n",
    "a = list(range(10))"
   ]
  },
  {
   "cell_type": "code",
   "execution_count": 24,
   "id": "d122a74b",
   "metadata": {},
   "outputs": [],
   "source": [
    "a.insert(0,12)"
   ]
  },
  {
   "cell_type": "code",
   "execution_count": 25,
   "id": "317fd0b2",
   "metadata": {},
   "outputs": [
    {
     "data": {
      "text/plain": [
       "[12, 0, 1, 2, 3, 4, 5, 6, 7, 8, 9]"
      ]
     },
     "execution_count": 25,
     "metadata": {},
     "output_type": "execute_result"
    }
   ],
   "source": [
    "a"
   ]
  },
  {
   "cell_type": "code",
   "execution_count": 26,
   "id": "afe0d651",
   "metadata": {},
   "outputs": [
    {
     "ename": "AttributeError",
     "evalue": "'tuple' object has no attribute 'insert'",
     "output_type": "error",
     "traceback": [
      "\u001b[1;31m---------------------------------------------------------------------------\u001b[0m",
      "\u001b[1;31mAttributeError\u001b[0m                            Traceback (most recent call last)",
      "Cell \u001b[1;32mIn[26], line 4\u001b[0m\n\u001b[0;32m      1\u001b[0m \u001b[38;5;66;03m#immutable data types\u001b[39;00m\n\u001b[0;32m      2\u001b[0m \u001b[38;5;66;03m#string , integer , tuple\u001b[39;00m\n\u001b[0;32m      3\u001b[0m a \u001b[38;5;241m=\u001b[39m (\u001b[38;5;241m1\u001b[39m,\u001b[38;5;241m2\u001b[39m,\u001b[38;5;241m3\u001b[39m)\n\u001b[1;32m----> 4\u001b[0m \u001b[43ma\u001b[49m\u001b[38;5;241;43m.\u001b[39;49m\u001b[43minsert\u001b[49m(\u001b[38;5;241m0\u001b[39m,\u001b[38;5;241m12\u001b[39m)\n\u001b[0;32m      5\u001b[0m a\n",
      "\u001b[1;31mAttributeError\u001b[0m: 'tuple' object has no attribute 'insert'"
     ]
    }
   ],
   "source": [
    "#immutable data types\n",
    "#string , integer , tuple\n",
    "a = (1,2,3)\n",
    "a.insert(0,12)\n",
    "a"
   ]
  },
  {
   "cell_type": "markdown",
   "id": "fed00a40",
   "metadata": {},
   "source": [
    "# Q.9. Write a code to create the given structure using only for loop. * *** ***** ******* *********"
   ]
  },
  {
   "cell_type": "markdown",
   "id": "99461230",
   "metadata": {},
   "source": [
    "# ANSWER"
   ]
  },
  {
   "cell_type": "code",
   "execution_count": 27,
   "id": "2c76570a",
   "metadata": {},
   "outputs": [
    {
     "name": "stdout",
     "output_type": "stream",
     "text": [
      "\n",
      "*\n",
      "**\n",
      "***\n",
      "****\n",
      "*****\n"
     ]
    }
   ],
   "source": [
    "for i in range(6):\n",
    "    print(i*\"*\")"
   ]
  },
  {
   "cell_type": "markdown",
   "id": "c249d0ab",
   "metadata": {},
   "source": [
    "# Q.10. Write a code to create the given structure using while loop."
   ]
  },
  {
   "cell_type": "markdown",
   "id": "e8bdbe31",
   "metadata": {},
   "source": [
    "# ANSWER"
   ]
  },
  {
   "cell_type": "code",
   "execution_count": 29,
   "id": "3d39f0a6",
   "metadata": {},
   "outputs": [
    {
     "name": "stdout",
     "output_type": "stream",
     "text": [
      "||||||||||\n",
      "||||||||\n",
      "||||||\n",
      "||||\n",
      "||\n"
     ]
    }
   ],
   "source": [
    "for i in range(10,0,-2):\n",
    "    print(i*\"|\")"
   ]
  },
  {
   "cell_type": "code",
   "execution_count": null,
   "id": "1cd77dcf",
   "metadata": {},
   "outputs": [],
   "source": []
  }
 ],
 "metadata": {
  "kernelspec": {
   "display_name": "Python 3.11",
   "language": "python",
   "name": "python3.11"
  },
  "language_info": {
   "codemirror_mode": {
    "name": "ipython",
    "version": 3
   },
   "file_extension": ".py",
   "mimetype": "text/x-python",
   "name": "python",
   "nbconvert_exporter": "python",
   "pygments_lexer": "ipython3",
   "version": "3.11.3"
  }
 },
 "nbformat": 4,
 "nbformat_minor": 5
}
