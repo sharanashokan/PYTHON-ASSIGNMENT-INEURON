{
 "cells": [
  {
   "cell_type": "markdown",
   "id": "60c9ff96",
   "metadata": {},
   "source": [
    "# 1. What does an empty dictionary&#39;s code look like?"
   ]
  },
  {
   "cell_type": "markdown",
   "id": "dea63cbe",
   "metadata": {},
   "source": [
    "# ANSWER"
   ]
  },
  {
   "cell_type": "code",
   "execution_count": 1,
   "id": "4f8498de",
   "metadata": {},
   "outputs": [
    {
     "data": {
      "text/plain": [
       "{}"
      ]
     },
     "execution_count": 1,
     "metadata": {},
     "output_type": "execute_result"
    }
   ],
   "source": [
    "empty = {}\n",
    "empty"
   ]
  },
  {
   "cell_type": "markdown",
   "id": "e5afb34f",
   "metadata": {},
   "source": [
    "# 2. What is the value of a dictionary value with the key &#39;foo&#39; and the value 42?"
   ]
  },
  {
   "cell_type": "markdown",
   "id": "70251e35",
   "metadata": {},
   "source": [
    "# ANSWER"
   ]
  },
  {
   "cell_type": "code",
   "execution_count": 5,
   "id": "b61a210d",
   "metadata": {},
   "outputs": [
    {
     "name": "stdout",
     "output_type": "stream",
     "text": [
      "42      {'foo': 42}\n"
     ]
    }
   ],
   "source": [
    "dic = {\"foo\":42}\n",
    "value = dic[\"foo\"]\n",
    "print(value,\"    \",dic)"
   ]
  },
  {
   "cell_type": "markdown",
   "id": "e2ffd583",
   "metadata": {},
   "source": [
    "# 3. What is the most significant distinction between a dictionary and a list?"
   ]
  },
  {
   "cell_type": "markdown",
   "id": "0cf314e4",
   "metadata": {},
   "source": [
    "# ANSWER"
   ]
  },
  {
   "cell_type": "code",
   "execution_count": 6,
   "id": "8d6a649c",
   "metadata": {},
   "outputs": [
    {
     "data": {
      "text/plain": [
       "10"
      ]
     },
     "execution_count": 6,
     "metadata": {},
     "output_type": "execute_result"
    }
   ],
   "source": [
    "# well as dictionary we can store values for every key for example\n",
    "dic = {\"thousand\":1000,\"hundred\":100,\"ten\":10}\n",
    "dic[\"ten\"]"
   ]
  },
  {
   "cell_type": "code",
   "execution_count": 10,
   "id": "b9c8cf5e",
   "metadata": {},
   "outputs": [
    {
     "data": {
      "text/plain": [
       "'inomatixs'"
      ]
     },
     "execution_count": 10,
     "metadata": {},
     "output_type": "execute_result"
    }
   ],
   "source": [
    "#in a  list we cant assing that but we can include anythings as a list but not as a key\n",
    "dic = [1000 , 100 , 10, \"sharan\" , \"inomatixs\",\"zebra\",\"burger\"]\n",
    "dic[4]"
   ]
  },
  {
   "cell_type": "markdown",
   "id": "a6095e7f",
   "metadata": {},
   "source": [
    "# 4. What happens if you try to access spam[&#39;foo&#39;] if spam is {&#39;bar&#39;: 100}?"
   ]
  },
  {
   "cell_type": "markdown",
   "id": "5863c05a",
   "metadata": {},
   "source": [
    "# ANSWER"
   ]
  },
  {
   "cell_type": "code",
   "execution_count": 12,
   "id": "16abf675",
   "metadata": {},
   "outputs": [
    {
     "name": "stdout",
     "output_type": "stream",
     "text": [
      "foo not exists\n"
     ]
    }
   ],
   "source": [
    "#lets do it\n",
    "spam = {'bar':100}\n",
    "try:\n",
    "    spam['foo']\n",
    "except:\n",
    "    print(\"foo not exists\")#  so its causes error so we cant call."
   ]
  },
  {
   "cell_type": "markdown",
   "id": "d2fd2c92",
   "metadata": {},
   "source": [
    "# 5. If a dictionary is stored in spam, what is the difference between the expressions &#39;cat&#39; in spam and &#39;cat&#39; in spam.keys()?"
   ]
  },
  {
   "cell_type": "markdown",
   "id": "7d256dc1",
   "metadata": {},
   "source": [
    "# ANSWER"
   ]
  },
  {
   "cell_type": "code",
   "execution_count": 13,
   "id": "6c7b8cbd",
   "metadata": {},
   "outputs": [
    {
     "data": {
      "text/plain": [
       "True"
      ]
     },
     "execution_count": 13,
     "metadata": {},
     "output_type": "execute_result"
    }
   ],
   "source": [
    "spam = {\"cat\":10000,\"dog\":1000000,\"donkey\":10000000000}\n",
    "\"cat\" in spam"
   ]
  },
  {
   "cell_type": "code",
   "execution_count": 14,
   "id": "5554d1e9",
   "metadata": {},
   "outputs": [
    {
     "data": {
      "text/plain": [
       "True"
      ]
     },
     "execution_count": 14,
     "metadata": {},
     "output_type": "execute_result"
    }
   ],
   "source": [
    "\"cat\" in spam.keys()"
   ]
  },
  {
   "cell_type": "code",
   "execution_count": 15,
   "id": "28d10f1e",
   "metadata": {},
   "outputs": [
    {
     "data": {
      "text/plain": [
       "False"
      ]
     },
     "execution_count": 15,
     "metadata": {},
     "output_type": "execute_result"
    }
   ],
   "source": [
    "spam = {\"dog\":1000000,\"donkey\":10000000000}\n",
    "\"cat\" in  spam"
   ]
  },
  {
   "cell_type": "code",
   "execution_count": 17,
   "id": "8817dc3b",
   "metadata": {},
   "outputs": [
    {
     "data": {
      "text/plain": [
       "False"
      ]
     },
     "execution_count": 17,
     "metadata": {},
     "output_type": "execute_result"
    }
   ],
   "source": [
    "\"cat\" in  spam.keys()"
   ]
  },
  {
   "cell_type": "markdown",
   "id": "7e49b6c8",
   "metadata": {},
   "source": [
    "# 6. If a dictionary is stored in spam, what is the difference between the expressions &#39;cat&#39; in spam and &#39;cat&#39; in spam.values()?"
   ]
  },
  {
   "cell_type": "markdown",
   "id": "483b446e",
   "metadata": {},
   "source": [
    "# ANSWER"
   ]
  },
  {
   "cell_type": "code",
   "execution_count": 20,
   "id": "3ef7e6d9",
   "metadata": {},
   "outputs": [
    {
     "data": {
      "text/plain": [
       "True"
      ]
     },
     "execution_count": 20,
     "metadata": {},
     "output_type": "execute_result"
    }
   ],
   "source": [
    "spam = {\"cat\":10000,\"dog\":1000000,\"donkey\":10000000000}\n",
    "\"cat\" in spam"
   ]
  },
  {
   "cell_type": "code",
   "execution_count": 19,
   "id": "d7265d76",
   "metadata": {},
   "outputs": [
    {
     "data": {
      "text/plain": [
       "False"
      ]
     },
     "execution_count": 19,
     "metadata": {},
     "output_type": "execute_result"
    }
   ],
   "source": [
    "\"cat\" in spam.values()"
   ]
  },
  {
   "cell_type": "code",
   "execution_count": 21,
   "id": "5626f5df",
   "metadata": {},
   "outputs": [],
   "source": [
    "#meaning if it is a  value it will be true else it will be a key"
   ]
  },
  {
   "cell_type": "markdown",
   "id": "c8efde43",
   "metadata": {},
   "source": [
    "# 7. What is a shortcut for the following code? if &#39;color&#39; not in spam: spam[&#39;color&#39;] = &#39;black&#39;"
   ]
  },
  {
   "cell_type": "markdown",
   "id": "f24cad65",
   "metadata": {},
   "source": [
    "# ANSWER"
   ]
  },
  {
   "cell_type": "code",
   "execution_count": 31,
   "id": "defeee49",
   "metadata": {},
   "outputs": [],
   "source": [
    "spam = {}\n",
    "if 'color' not in spam:\n",
    "    spam['color'] = 'black'"
   ]
  },
  {
   "cell_type": "code",
   "execution_count": 32,
   "id": "7b6e9915",
   "metadata": {},
   "outputs": [
    {
     "data": {
      "text/plain": [
       "{'color': 'black'}"
      ]
     },
     "execution_count": 32,
     "metadata": {},
     "output_type": "execute_result"
    }
   ],
   "source": [
    "spam"
   ]
  },
  {
   "cell_type": "code",
   "execution_count": 33,
   "id": "558f0e23",
   "metadata": {},
   "outputs": [],
   "source": [
    "spam={}\n",
    "while 'color' not in  spam: spam['color']='black'"
   ]
  },
  {
   "cell_type": "code",
   "execution_count": 34,
   "id": "3125d7c2",
   "metadata": {},
   "outputs": [
    {
     "data": {
      "text/plain": [
       "{'color': 'black'}"
      ]
     },
     "execution_count": 34,
     "metadata": {},
     "output_type": "execute_result"
    }
   ],
   "source": [
    "spam"
   ]
  },
  {
   "cell_type": "markdown",
   "id": "84ce7738",
   "metadata": {},
   "source": [
    "# 8. How do you &quot;pretty print&quot; dictionary values using which module and function?"
   ]
  },
  {
   "cell_type": "markdown",
   "id": "d9a4f072",
   "metadata": {},
   "source": [
    "# ANSWER"
   ]
  },
  {
   "cell_type": "code",
   "execution_count": 35,
   "id": "97c2761b",
   "metadata": {},
   "outputs": [],
   "source": [
    "from pprint import pprint"
   ]
  },
  {
   "cell_type": "code",
   "execution_count": 36,
   "id": "a4cc4f67",
   "metadata": {},
   "outputs": [
    {
     "name": "stdout",
     "output_type": "stream",
     "text": [
      "{'cat': 10000, 'dog': 1000000, 'donkey': 10000000000}\n"
     ]
    }
   ],
   "source": [
    "spam = {\"cat\":10000,\"dog\":1000000,\"donkey\":10000000000}\n",
    "pprint(spam)"
   ]
  },
  {
   "cell_type": "markdown",
   "id": "33349fa0",
   "metadata": {},
   "source": [
    "# THANK YOU"
   ]
  }
 ],
 "metadata": {
  "kernelspec": {
   "display_name": "Python 3.11",
   "language": "python",
   "name": "python3.11"
  },
  "language_info": {
   "codemirror_mode": {
    "name": "ipython",
    "version": 3
   },
   "file_extension": ".py",
   "mimetype": "text/x-python",
   "name": "python",
   "nbconvert_exporter": "python",
   "pygments_lexer": "ipython3",
   "version": "3.11.3"
  }
 },
 "nbformat": 4,
 "nbformat_minor": 5
}
