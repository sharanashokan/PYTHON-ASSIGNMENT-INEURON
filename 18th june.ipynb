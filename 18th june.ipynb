{
 "cells": [
  {
   "cell_type": "markdown",
   "id": "8916a417",
   "metadata": {},
   "source": [
    "# 1, What is the role of the 'else' block in a try-except statement? Provide an examplescenario where it would be useful."
   ]
  },
  {
   "cell_type": "markdown",
   "id": "d5df3e27",
   "metadata": {},
   "source": [
    "# ANSWER"
   ]
  },
  {
   "cell_type": "code",
   "execution_count": 2,
   "id": "8c0c75f6",
   "metadata": {},
   "outputs": [
    {
     "name": "stdout",
     "output_type": "stream",
     "text": [
      "enter a number13\n",
      "7\n",
      "14\n"
     ]
    }
   ],
   "source": [
    "#else block will run the condition if there is no exception has occurre\n",
    "\n",
    "#for example\n",
    "\n",
    "try:\n",
    "    i = int(input(\"enter a number\"))\n",
    "    x = 100//i\n",
    "    print(x)\n",
    "except:\n",
    "    print(\"invalid code\")\n",
    "else:\n",
    "    print(x*2)"
   ]
  },
  {
   "cell_type": "markdown",
   "id": "63107c7b",
   "metadata": {},
   "source": [
    "# 2. Can a try-except block be nested inside another try-except block? Explain with an\n",
    "example."
   ]
  },
  {
   "cell_type": "markdown",
   "id": "70863940",
   "metadata": {},
   "source": [
    "# ANSWER"
   ]
  },
  {
   "cell_type": "code",
   "execution_count": 12,
   "id": "1f59144a",
   "metadata": {},
   "outputs": [
    {
     "name": "stdout",
     "output_type": "stream",
     "text": [
      "Enter the numerator: 12\n",
      "Enter the denominator: 12\n",
      "Result: 1.0\n"
     ]
    }
   ],
   "source": [
    "try:\n",
    "    numerator = int(input(\"Enter the numerator: \"))\n",
    "    denominator = int(input(\"Enter the denominator: \"))\n",
    "    \n",
    "    try:\n",
    "        result = numerator / denominator\n",
    "    except ZeroDivisionError:\n",
    "        print(\"Error: Cannot divide by zero.\")\n",
    "    except Exception as e:\n",
    "        print(f\"An error occurred: {e}\")\n",
    "    else:\n",
    "        print(f\"Result: {result}\")\n",
    "except ValueError:\n",
    "    print(\"Invalid input. Please enter valid integers.\")\n",
    "except Exception as e:\n",
    "    print(f\"An error occurred: {e}\")"
   ]
  },
  {
   "cell_type": "markdown",
   "id": "65e50525",
   "metadata": {},
   "source": [
    "# 3, How can you create a custom exception class in Python? Provide an example that\n",
    "demonstrates its usage."
   ]
  },
  {
   "cell_type": "markdown",
   "id": "e80560e9",
   "metadata": {},
   "source": [
    "# ANSWER"
   ]
  },
  {
   "cell_type": "code",
   "execution_count": 15,
   "id": "2baf4f63",
   "metadata": {},
   "outputs": [
    {
     "name": "stdout",
     "output_type": "stream",
     "text": [
      "CustomError occurred: Division by zero is not allowed.\n"
     ]
    }
   ],
   "source": [
    "class CustomError(Exception):\n",
    "    def __init__(self, message):\n",
    "        self.message = message\n",
    "        super().__init__(self.message)\n",
    "\n",
    "def divide(a, b):\n",
    "    if b == 0:\n",
    "        raise CustomError(\"Division by zero is not allowed.\")\n",
    "    return a / b\n",
    "\n",
    "try:\n",
    "    result = divide(10, 0)\n",
    "except CustomError as ce:\n",
    "    print(f\"CustomError occurred: {ce}\")\n",
    "except Exception as e:\n",
    "    print(f\"An error occurred: {e}\")\n",
    "else:\n",
    "    print(f\"Result: {result}\")"
   ]
  },
  {
   "cell_type": "markdown",
   "id": "a90c8292",
   "metadata": {},
   "source": [
    "# 4,What are some common exceptions that are built-in to Python?"
   ]
  },
  {
   "cell_type": "markdown",
   "id": "c3310f9d",
   "metadata": {},
   "source": [
    "# ANSWER"
   ]
  },
  {
   "cell_type": "code",
   "execution_count": 16,
   "id": "c167ae4d",
   "metadata": {},
   "outputs": [],
   "source": [
    "#SyntaxError: Raised when there is a syntax error in the code.\n",
    "\n",
    "#IndentationError: Subclass of SyntaxError, raised when there is incorrect indentation in the code.\n",
    "\n",
    "#NameError: Raised when a local or global name is not found.\n",
    "\n",
    "#TypeError: Raised when an operation or function is applied to an object of inappropriate type.\n",
    "\n",
    "#ValueError: Raised when an operation or function receives an argument of correct type but with an inappropriate value.\n",
    "\n",
    "#IndexError: Raised when a sequence subscript is out of range.\n",
    "\n",
    "#KeyError: Raised when a dictionary is accessed with a key that doesn't exist.\n",
    "\n",
    "#ZeroDivisionError: Raised when division or modulo by zero is encountered.\n",
    "\n",
    "#FileNotFoundError: Raised when an attempt to open a file fails because the file does not exist.\n",
    "\n",
    "#IOError: General I/O exception, raised when an I/O operation (e.g., reading/writing to a file) fails.\n",
    "\n",
    "#ImportError: Raised when an import statement fails.\n",
    "\n",
    "#AttributeError: Raised when an attribute reference or assignment fails.\n",
    "\n",
    "#RuntimeError: Raised when a generic runtime error occurs.\n",
    "\n",
    "#Exception: Base class for all built-in exceptions. Custom exceptions should inherit from this class."
   ]
  },
  {
   "cell_type": "markdown",
   "id": "1cf550bd",
   "metadata": {},
   "source": [
    "# 5. What is logging in Python, and why is it important in software development?"
   ]
  },
  {
   "cell_type": "markdown",
   "id": "4e029434",
   "metadata": {},
   "source": [
    "# ANSWER"
   ]
  },
  {
   "cell_type": "code",
   "execution_count": 17,
   "id": "177e6e59",
   "metadata": {},
   "outputs": [],
   "source": [
    "#Logging in Python refers to the process of recording events, \n",
    "#messages, and information during the execution of a program.\n",
    "#It involves using the built-in logging module to create log\n",
    "#records that capture various levels of information, such as \n",
    "#debugging messages, warnings, errors, and more. Logging is\n",
    "#important in software development for several reasons:\n",
    "\n",
    "#DEBBUGGING AND TROUBLESHOOTING\n",
    "#ERROR HANDLING\n",
    "#Monitoring and Maintenance"
   ]
  },
  {
   "cell_type": "markdown",
   "id": "1cc0441d",
   "metadata": {},
   "source": [
    "# 6. Explain the purpose of log levels in Python logging and provide examples of when each log level would be appropriate."
   ]
  },
  {
   "cell_type": "markdown",
   "id": "1b2f0ac6",
   "metadata": {},
   "source": [
    "# ANSWER"
   ]
  },
  {
   "cell_type": "code",
   "execution_count": 18,
   "id": "b76735b2",
   "metadata": {},
   "outputs": [
    {
     "name": "stderr",
     "output_type": "stream",
     "text": [
      "INFO: Program started.\n",
      "DEBUG: Calculating square root of 16.\n",
      "INFO: Square root of 16 is 4.00.\n",
      "WARNING: Remember to update the 'square_root' function to handle complex numbers.\n",
      "INFO: Program finished.\n"
     ]
    }
   ],
   "source": [
    "#debug\n",
    "#info\n",
    "#warning\n",
    "#error\n",
    "#critical\n",
    "\n",
    "import logging\n",
    "\n",
    "# Configure logging\n",
    "logging.basicConfig(level=logging.DEBUG, format='%(levelname)s: %(message)s')\n",
    "\n",
    "def square_root(x):\n",
    "    if x < 0:\n",
    "        logging.error(f\"Square root of {x} is undefined for negative numbers.\")\n",
    "        return None\n",
    "    return x ** 0.5\n",
    "\n",
    "def main():\n",
    "    logging.info(\"Program started.\")\n",
    "    num = 16\n",
    "\n",
    "    logging.debug(f\"Calculating square root of {num}.\")\n",
    "    result = square_root(num)\n",
    "    \n",
    "    if result is not None:\n",
    "        logging.info(f\"Square root of {num} is {result:.2f}.\")\n",
    "    \n",
    "    logging.warning(\"Remember to update the 'square_root' function to handle complex numbers.\")\n",
    "\n",
    "    logging.info(\"Program finished.\")\n",
    "\n",
    "if __name__ == \"__main__\":\n",
    "    main()"
   ]
  },
  {
   "cell_type": "markdown",
   "id": "a28c3162",
   "metadata": {},
   "source": [
    "# 7. What are log formatters in Python logging, and how can you customise the log\n",
    "message format using formatters?"
   ]
  },
  {
   "cell_type": "markdown",
   "id": "43bcd8d0",
   "metadata": {},
   "source": [
    "# ANSWER"
   ]
  },
  {
   "cell_type": "code",
   "execution_count": 20,
   "id": "bc26b3f5",
   "metadata": {},
   "outputs": [
    {
     "name": "stderr",
     "output_type": "stream",
     "text": [
      "2023-08-05 21:05:49,829 - my_logger - DEBUG - This is a debug message.\n",
      "2023-08-05 21:05:49,829 - my_logger - DEBUG - This is a debug message.\n",
      "DEBUG: This is a debug message.\n",
      "2023-08-05 21:05:49,831 - my_logger - INFO - This is an info message.\n",
      "2023-08-05 21:05:49,831 - my_logger - INFO - This is an info message.\n",
      "INFO: This is an info message.\n"
     ]
    }
   ],
   "source": [
    "#Log formatters in Python logging are used to control how log messages are formatted before \n",
    "#they are output. They allow you to customize the structure and content of log messages, \n",
    "#including details like the log level, timestamp, message, and more.\n",
    "\n",
    "import logging\n",
    "\n",
    "# Create a formatter\n",
    "formatter = logging.Formatter('%(asctime)s - %(name)s - %(levelname)s - %(message)s')\n",
    "\n",
    "# Create a logger\n",
    "logger = logging.getLogger('my_logger')\n",
    "logger.setLevel(logging.DEBUG)\n",
    "\n",
    "# Create a handler and attach the formatter\n",
    "handler = logging.StreamHandler()\n",
    "handler.setFormatter(formatter)\n",
    "\n",
    "# Attach the handler to the logger\n",
    "logger.addHandler(handler)\n",
    "\n",
    "# Log messages\n",
    "logger.debug(\"This is a debug message.\")\n",
    "logger.info(\"This is an info message.\")"
   ]
  },
  {
   "cell_type": "markdown",
   "id": "cbf4bb3f",
   "metadata": {},
   "source": [
    "# 8, How can you set up logging to capture log messages from multiple modules or classes in a Python application?"
   ]
  },
  {
   "cell_type": "markdown",
   "id": "a80889ce",
   "metadata": {},
   "source": [
    "# ANSWER"
   ]
  },
  {
   "cell_type": "code",
   "execution_count": 22,
   "id": "d4ef23bc",
   "metadata": {},
   "outputs": [],
   "source": [
    "#it involves creating a common logging configuration that can be used across different parts of your code\n",
    "#Central Setup: Create a special setup for logging in one place.\n",
    "\n",
    "#Import Everywhere: In each part of your program (module or class), bring in this setup.\n",
    "\n",
    "#Use Logging: Start using logging just like we did in the first part."
   ]
  },
  {
   "cell_type": "markdown",
   "id": "fbe5e05d",
   "metadata": {},
   "source": [
    "# 9. What is the difference between the logging and print statements in Python? When should you use logging over print statements in a real-world application?"
   ]
  },
  {
   "cell_type": "markdown",
   "id": "15d702e4",
   "metadata": {},
   "source": [
    "# ANSWER"
   ]
  },
  {
   "cell_type": "code",
   "execution_count": 23,
   "id": "6fcb7cd8",
   "metadata": {},
   "outputs": [],
   "source": [
    "#Logging: Structured recording of program events at different levels \n",
    "#(debug, info, warning, error) for long-term monitoring, debugging, and collaboration.\n",
    "\n",
    "#Print Statements: Quick, unstructured output to the console for immediate insight during \n",
    "#development or testing.\n",
    "\n",
    "#Use Logging Over Print Statements When:\n",
    "#Monitoring, different detail levels, flexible output, maintenance, teamwork, and \n",
    "#long-term tracking are needed."
   ]
  },
  {
   "cell_type": "markdown",
   "id": "0a363ae4",
   "metadata": {},
   "source": [
    "# 10. Write a Python program that logs a message to a file named \"app.log\" with the\n",
    "following requirements:\n",
    "● The log message should be \"Hello, World!\"\n",
    "● The log level should be set to \"INFO.\"\n",
    "● The log file should append new log entries without overwriting previous ones."
   ]
  },
  {
   "cell_type": "markdown",
   "id": "f5dc36e8",
   "metadata": {},
   "source": [
    "# ANSWER"
   ]
  },
  {
   "cell_type": "code",
   "execution_count": 24,
   "id": "07d40a4a",
   "metadata": {},
   "outputs": [
    {
     "name": "stderr",
     "output_type": "stream",
     "text": [
      "INFO: Hello, World!\n"
     ]
    }
   ],
   "source": [
    "import logging\n",
    "\n",
    "# Configure logging to write to a file\n",
    "logging.basicConfig(filename='app.log', level=logging.INFO, format='%(asctime)s - %(levelname)s - %(message)s')\n",
    "\n",
    "# Log the message\n",
    "logging.info(\"Hello, World!\")"
   ]
  },
  {
   "cell_type": "markdown",
   "id": "3ed48ed7",
   "metadata": {},
   "source": [
    "# 11. Create a Python program that logs an error message to the console and a file named \"errors.log\" if an exception occurs during the program's execution. The error\n",
    "message should include the exception type and a timestamp."
   ]
  },
  {
   "cell_type": "markdown",
   "id": "443f3a79",
   "metadata": {},
   "source": [
    "# ANSWER"
   ]
  },
  {
   "cell_type": "code",
   "execution_count": 25,
   "id": "faff3cf8",
   "metadata": {},
   "outputs": [
    {
     "name": "stderr",
     "output_type": "stream",
     "text": [
      "ERROR: Exception occurred: ZeroDivisionError - division by zero\n"
     ]
    }
   ],
   "source": [
    "import logging\n",
    "\n",
    "# Configure logging to write errors to console and file\n",
    "logging.basicConfig(level=logging.ERROR,\n",
    "                    format='%(asctime)s - %(levelname)s - %(message)s',\n",
    "                    handlers=[\n",
    "                        logging.FileHandler('errors.log', mode='a'),\n",
    "                        logging.StreamHandler()\n",
    "                    ])\n",
    "\n",
    "try:\n",
    "    # Code that may raise an exception\n",
    "    result = 10 / 0  # This will raise a ZeroDivisionError\n",
    "except Exception as e:\n",
    "    # Log the error with exception type and timestamp\n",
    "    logging.error(f\"Exception occurred: {type(e).__name__} - {e}\")"
   ]
  },
  {
   "cell_type": "markdown",
   "id": "576ce451",
   "metadata": {},
   "source": [
    "# thank you"
   ]
  }
 ],
 "metadata": {
  "kernelspec": {
   "display_name": "Python 3.11",
   "language": "python",
   "name": "python3.11"
  },
  "language_info": {
   "codemirror_mode": {
    "name": "ipython",
    "version": 3
   },
   "file_extension": ".py",
   "mimetype": "text/x-python",
   "name": "python",
   "nbconvert_exporter": "python",
   "pygments_lexer": "ipython3",
   "version": "3.11.3"
  }
 },
 "nbformat": 4,
 "nbformat_minor": 5
}
