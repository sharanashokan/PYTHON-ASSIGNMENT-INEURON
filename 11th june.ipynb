{
 "cells": [
  {
   "cell_type": "markdown",
   "id": "668aacba",
   "metadata": {},
   "source": [
    "# 1. What is a lambda function in Python, and how does it differ from a regular function?"
   ]
  },
  {
   "cell_type": "markdown",
   "id": "5852be8a",
   "metadata": {},
   "source": [
    "# ANSWER"
   ]
  },
  {
   "cell_type": "code",
   "execution_count": 1,
   "id": "63640076",
   "metadata": {},
   "outputs": [
    {
     "data": {
      "text/plain": [
       "25"
      ]
     },
     "execution_count": 1,
     "metadata": {},
     "output_type": "execute_result"
    }
   ],
   "source": [
    "#lambda is small function used for small operation \n",
    "#for example sqare\n",
    "square = lambda x: x**2\n",
    "square(5)"
   ]
  },
  {
   "cell_type": "code",
   "execution_count": 2,
   "id": "f110a04e",
   "metadata": {},
   "outputs": [
    {
     "data": {
      "text/plain": [
       "16"
      ]
     },
     "execution_count": 2,
     "metadata": {},
     "output_type": "execute_result"
    }
   ],
   "source": [
    "def square_(x):\n",
    "    y = x**2\n",
    "    return y\n",
    "square_(4)"
   ]
  },
  {
   "cell_type": "markdown",
   "id": "b845f3dd",
   "metadata": {},
   "source": [
    "# 2. Can a lambda function in Python have multiple arguments? If yes, how can you define and use them?"
   ]
  },
  {
   "cell_type": "markdown",
   "id": "5a853826",
   "metadata": {},
   "source": [
    "# ANSWER"
   ]
  },
  {
   "cell_type": "code",
   "execution_count": 3,
   "id": "d7aa17ab",
   "metadata": {},
   "outputs": [
    {
     "data": {
      "text/plain": [
       "80"
      ]
     },
     "execution_count": 3,
     "metadata": {},
     "output_type": "execute_result"
    }
   ],
   "source": [
    "# yes we can have mulitple argument in lambda function\n",
    "#for example        lambda argument : expression\n",
    "area_of_rectangle = lambda length , width : length * width\n",
    "area_of_rectangle(10,8)"
   ]
  },
  {
   "cell_type": "code",
   "execution_count": 4,
   "id": "2c728407",
   "metadata": {},
   "outputs": [],
   "source": [
    "mean  = lambda a , b  , c  , d : (a+b+c+d)/4"
   ]
  },
  {
   "cell_type": "code",
   "execution_count": 5,
   "id": "7a47d3be",
   "metadata": {},
   "outputs": [
    {
     "data": {
      "text/plain": [
       "15.0"
      ]
     },
     "execution_count": 5,
     "metadata": {},
     "output_type": "execute_result"
    }
   ],
   "source": [
    "mean(10,25,12,13)"
   ]
  },
  {
   "cell_type": "markdown",
   "id": "8d268b0b",
   "metadata": {},
   "source": [
    "# 3. How are lambda functions typically used in Python? Provide an example use case."
   ]
  },
  {
   "cell_type": "markdown",
   "id": "98851ede",
   "metadata": {},
   "source": [
    "# ANSWER"
   ]
  },
  {
   "cell_type": "code",
   "execution_count": 6,
   "id": "5db793d1",
   "metadata": {},
   "outputs": [
    {
     "name": "stdout",
     "output_type": "stream",
     "text": [
      "[2, 4, 6, 8, 10]\n"
     ]
    }
   ],
   "source": [
    "number = [1,2,3,4,5,6,7,8,9,10]\n",
    "numbers = filter(lambda x: x%2==0 ,number)\n",
    "even = list(numbers)\n",
    "print(even)"
   ]
  },
  {
   "cell_type": "code",
   "execution_count": 7,
   "id": "edd950db",
   "metadata": {},
   "outputs": [
    {
     "data": {
      "text/plain": [
       "[(4, 3), (1, 5), (2, 8), (3, 10)]"
      ]
     },
     "execution_count": 7,
     "metadata": {},
     "output_type": "execute_result"
    }
   ],
   "source": [
    "#lambda function can be used in many ways we can sort using second value of the tuple\n",
    "#example\n",
    "data = [(3, 10), (1, 5), (2, 8), (4, 3)]\n",
    "\n",
    "sorted_data = sorted(data, key = lambda x: x[1])\n",
    "\n",
    "sorted_data"
   ]
  },
  {
   "cell_type": "markdown",
   "id": "2850a244",
   "metadata": {},
   "source": [
    "# 4. What are the advantages and limitations of lambda functions compared to regular functions in Python?"
   ]
  },
  {
   "cell_type": "markdown",
   "id": "cb2e862b",
   "metadata": {},
   "source": [
    "# ANSWER"
   ]
  },
  {
   "cell_type": "code",
   "execution_count": 8,
   "id": "f460775a",
   "metadata": {},
   "outputs": [],
   "source": [
    "#advantage\n",
    "\n",
    "#we can write a single line of code in more compact way.\n",
    "#immediate implementation we can write a lambda function in very short period of time \n",
    "#lambda function is well fit functional programming\n",
    "\n",
    "#limitation \n",
    "\n",
    "#we can use only single expression . we cant use multiple expression\n",
    "#limited readability ,, they might have very low code mode so we cant read easily\n",
    "#lack of full name and lack of statement ...."
   ]
  },
  {
   "cell_type": "markdown",
   "id": "c3092021",
   "metadata": {},
   "source": [
    "# 5. Are lambda functions in Python able to access variables defined outside of their own scope? Explain with an example."
   ]
  },
  {
   "cell_type": "markdown",
   "id": "69ce2a6f",
   "metadata": {},
   "source": [
    "# ANSWER"
   ]
  },
  {
   "cell_type": "code",
   "execution_count": 9,
   "id": "54c09b92",
   "metadata": {},
   "outputs": [],
   "source": [
    "def load():\n",
    "    interest_percentage = 5\n",
    "    interest = lambda x: x * 0.05\n",
    "    return interest"
   ]
  },
  {
   "cell_type": "code",
   "execution_count": 10,
   "id": "c8a7a6eb",
   "metadata": {},
   "outputs": [],
   "source": [
    "x = load()\n",
    "interest = x(1000)"
   ]
  },
  {
   "cell_type": "code",
   "execution_count": 11,
   "id": "abc9c656",
   "metadata": {},
   "outputs": [
    {
     "data": {
      "text/plain": [
       "50.0"
      ]
     },
     "execution_count": 11,
     "metadata": {},
     "output_type": "execute_result"
    }
   ],
   "source": [
    "interest"
   ]
  },
  {
   "cell_type": "markdown",
   "id": "d70c5652",
   "metadata": {},
   "source": [
    "# 6. Write a lambda function to calculate the square of a given number."
   ]
  },
  {
   "cell_type": "markdown",
   "id": "77b90b26",
   "metadata": {},
   "source": [
    "# ANSWER"
   ]
  },
  {
   "cell_type": "code",
   "execution_count": 12,
   "id": "571a6643",
   "metadata": {},
   "outputs": [
    {
     "data": {
      "text/plain": [
       "100"
      ]
     },
     "execution_count": 12,
     "metadata": {},
     "output_type": "execute_result"
    }
   ],
   "source": [
    "square = lambda x:x**2\n",
    "square(10)"
   ]
  },
  {
   "cell_type": "code",
   "execution_count": 13,
   "id": "a94e71bc",
   "metadata": {},
   "outputs": [
    {
     "data": {
      "text/plain": [
       "8100"
      ]
     },
     "execution_count": 13,
     "metadata": {},
     "output_type": "execute_result"
    }
   ],
   "source": [
    "square(90)"
   ]
  },
  {
   "cell_type": "code",
   "execution_count": 14,
   "id": "18eed58b",
   "metadata": {},
   "outputs": [
    {
     "data": {
      "text/plain": [
       "144"
      ]
     },
     "execution_count": 14,
     "metadata": {},
     "output_type": "execute_result"
    }
   ],
   "source": [
    "square(12)"
   ]
  },
  {
   "cell_type": "markdown",
   "id": "2c50ae9d",
   "metadata": {},
   "source": [
    "# 7. Create a lambda function to find the maximum value in a list of integers."
   ]
  },
  {
   "cell_type": "markdown",
   "id": "bea79837",
   "metadata": {},
   "source": [
    "# ANSWER"
   ]
  },
  {
   "cell_type": "code",
   "execution_count": 15,
   "id": "c1d16ed7",
   "metadata": {},
   "outputs": [],
   "source": [
    "find_max = lambda lst:max(lst)"
   ]
  },
  {
   "cell_type": "code",
   "execution_count": 16,
   "id": "bdb7e028",
   "metadata": {},
   "outputs": [
    {
     "data": {
      "text/plain": [
       "5679"
      ]
     },
     "execution_count": 16,
     "metadata": {},
     "output_type": "execute_result"
    }
   ],
   "source": [
    "a = [ 1,2,3,4,5,6,1,2,4,8,9,9,767,8,6,7,67,8,56,74,7,5679,85,64,645,6,5,867,6,785]\n",
    "find_max(a)"
   ]
  },
  {
   "cell_type": "markdown",
   "id": "128c858c",
   "metadata": {},
   "source": [
    "# 8. Implement a lambda function to filter out all the even numbers from a list of integers."
   ]
  },
  {
   "cell_type": "markdown",
   "id": "bcf691cf",
   "metadata": {},
   "source": [
    "# ANSWER"
   ]
  },
  {
   "cell_type": "code",
   "execution_count": 17,
   "id": "71135d05",
   "metadata": {},
   "outputs": [],
   "source": [
    "a = [ 1,2,3,4,5,6,1,2,4,8,9,9,767,8,6,7,67,8,56,74,7,5679,85,64,645,6,5,867,6,785]\n",
    "even = filter(lambda x: x%2==0, a) "
   ]
  },
  {
   "cell_type": "code",
   "execution_count": 18,
   "id": "9cc0c168",
   "metadata": {},
   "outputs": [
    {
     "data": {
      "text/plain": [
       "[2, 4, 6, 2, 4, 8, 8, 6, 8, 56, 74, 64, 6, 6]"
      ]
     },
     "execution_count": 18,
     "metadata": {},
     "output_type": "execute_result"
    }
   ],
   "source": [
    "list(even)"
   ]
  },
  {
   "cell_type": "markdown",
   "id": "a1f41f6c",
   "metadata": {},
   "source": [
    "# 9. Write a lambda function to sort a list of strings in ascending order based on the length of each  string."
   ]
  },
  {
   "cell_type": "markdown",
   "id": "54ab5adc",
   "metadata": {},
   "source": [
    "# ANSWER"
   ]
  },
  {
   "cell_type": "code",
   "execution_count": 19,
   "id": "1f7c31ff",
   "metadata": {},
   "outputs": [],
   "source": [
    "data = ['sharan','lily','abigail','monarch','jonas','rosalind harper','roy taggeilio ferra','patrick jane','albotross']\n",
    "sorted_ = sorted(data , key= lambda x: len(x))"
   ]
  },
  {
   "cell_type": "code",
   "execution_count": 20,
   "id": "b96cb217",
   "metadata": {},
   "outputs": [
    {
     "data": {
      "text/plain": [
       "['lily',\n",
       " 'jonas',\n",
       " 'sharan',\n",
       " 'abigail',\n",
       " 'monarch',\n",
       " 'albotross',\n",
       " 'patrick jane',\n",
       " 'rosalind harper',\n",
       " 'roy taggeilio ferra']"
      ]
     },
     "execution_count": 20,
     "metadata": {},
     "output_type": "execute_result"
    }
   ],
   "source": [
    "sorted_"
   ]
  },
  {
   "cell_type": "markdown",
   "id": "259969b0",
   "metadata": {},
   "source": [
    "# 10. Create a lambda function that takes two lists as input and returns a new list containing the common elements between the two lists."
   ]
  },
  {
   "cell_type": "markdown",
   "id": "9e4c9cb5",
   "metadata": {},
   "source": [
    "# ANSWER"
   ]
  },
  {
   "cell_type": "code",
   "execution_count": 21,
   "id": "0d332a0f",
   "metadata": {},
   "outputs": [],
   "source": [
    "common = lambda list1,list2: [x for x in list1 if x in list2]"
   ]
  },
  {
   "cell_type": "code",
   "execution_count": 22,
   "id": "f8dbd3b4",
   "metadata": {},
   "outputs": [
    {
     "data": {
      "text/plain": [
       "[1, 4, 5, 6, 7, 8]"
      ]
     },
     "execution_count": 22,
     "metadata": {},
     "output_type": "execute_result"
    }
   ],
   "source": [
    "a = [1,2,3,4,5,6,7,8]\n",
    "b = [4,5,6,7,8,9,0,1]\n",
    "common(a,b)"
   ]
  },
  {
   "cell_type": "markdown",
   "id": "8f52ab85",
   "metadata": {},
   "source": [
    "# 11. Write a recursive function to calculate the factorial of a given positive integer."
   ]
  },
  {
   "cell_type": "markdown",
   "id": "6fed3d4a",
   "metadata": {},
   "source": [
    "# ANSWER"
   ]
  },
  {
   "cell_type": "code",
   "execution_count": 23,
   "id": "52222597",
   "metadata": {},
   "outputs": [],
   "source": [
    "def factorial(x):\n",
    "    if x == 0:\n",
    "        return 1\n",
    "    else:\n",
    "        return x * factorial(x-1)"
   ]
  },
  {
   "cell_type": "code",
   "execution_count": 24,
   "id": "f6008fe5",
   "metadata": {},
   "outputs": [
    {
     "data": {
      "text/plain": [
       "720"
      ]
     },
     "execution_count": 24,
     "metadata": {},
     "output_type": "execute_result"
    }
   ],
   "source": [
    "factorial(6)"
   ]
  },
  {
   "cell_type": "markdown",
   "id": "f15dd4bf",
   "metadata": {},
   "source": [
    "# 12. Implement a recursive function to compute the nth Fibonacci number."
   ]
  },
  {
   "cell_type": "markdown",
   "id": "1c0acb48",
   "metadata": {},
   "source": [
    "# ANSWER"
   ]
  },
  {
   "cell_type": "code",
   "execution_count": 25,
   "id": "edba5d3a",
   "metadata": {},
   "outputs": [],
   "source": [
    "def fabunacci(n):\n",
    "    if n <= 0:\n",
    "        return \"invalid input\"\n",
    "    elif n == 1:\n",
    "        return 0 \n",
    "    elif n == 2:\n",
    "        return 1\n",
    "    else:\n",
    "        return fabunacci(n-1)+fabunacci(n-2)"
   ]
  },
  {
   "cell_type": "code",
   "execution_count": 26,
   "id": "a1aee0cb",
   "metadata": {},
   "outputs": [
    {
     "data": {
      "text/plain": [
       "13"
      ]
     },
     "execution_count": 26,
     "metadata": {},
     "output_type": "execute_result"
    }
   ],
   "source": [
    "fabunacci(8)"
   ]
  },
  {
   "cell_type": "markdown",
   "id": "6daf8b46",
   "metadata": {},
   "source": [
    "# 13. Create a recursive function to find the sum of all the elements in a given list."
   ]
  },
  {
   "cell_type": "markdown",
   "id": "d622931a",
   "metadata": {},
   "source": [
    "# ANSWER"
   ]
  },
  {
   "cell_type": "code",
   "execution_count": 27,
   "id": "c27d28b5",
   "metadata": {},
   "outputs": [],
   "source": [
    "def sum_(x):\n",
    "    total = sum(x)\n",
    "    return total"
   ]
  },
  {
   "cell_type": "code",
   "execution_count": 28,
   "id": "efa41a4c",
   "metadata": {},
   "outputs": [
    {
     "data": {
      "text/plain": [
       "21"
      ]
     },
     "execution_count": 28,
     "metadata": {},
     "output_type": "execute_result"
    }
   ],
   "source": [
    "a= [1,2,3,4,5,6]\n",
    "sum_(a)"
   ]
  },
  {
   "cell_type": "markdown",
   "id": "a529ae52",
   "metadata": {},
   "source": [
    "# 14. Write a recursive function to determine whether a given string is a palindrome."
   ]
  },
  {
   "cell_type": "markdown",
   "id": "82f2b72f",
   "metadata": {},
   "source": [
    "# ANSWER"
   ]
  },
  {
   "cell_type": "code",
   "execution_count": 29,
   "id": "19bc99be",
   "metadata": {},
   "outputs": [],
   "source": [
    "def palindrome(x):\n",
    "    if x == x[::-1]:\n",
    "        print(x , \"its a palindrome\")\n",
    "    else:\n",
    "        print(x, \"nothing\")"
   ]
  },
  {
   "cell_type": "code",
   "execution_count": 30,
   "id": "38d2f09a",
   "metadata": {},
   "outputs": [
    {
     "name": "stdout",
     "output_type": "stream",
     "text": [
      "sharan nothing\n"
     ]
    }
   ],
   "source": [
    "palindrome(\"sharan\")"
   ]
  },
  {
   "cell_type": "code",
   "execution_count": 31,
   "id": "b11cbad1",
   "metadata": {},
   "outputs": [
    {
     "name": "stdout",
     "output_type": "stream",
     "text": [
      "racecar its a palindrome\n"
     ]
    }
   ],
   "source": [
    "palindrome(\"racecar\")"
   ]
  },
  {
   "cell_type": "markdown",
   "id": "dde0cc24",
   "metadata": {},
   "source": [
    "# 15. Implement a recursive function to find the greatest common divisor (GCD) of two positive integers."
   ]
  },
  {
   "cell_type": "markdown",
   "id": "2dfca019",
   "metadata": {},
   "source": [
    "# ANSWER"
   ]
  },
  {
   "cell_type": "code",
   "execution_count": 32,
   "id": "7e857084",
   "metadata": {},
   "outputs": [],
   "source": [
    "def gcd(a, b):\n",
    "    if b == 0:\n",
    "        return a\n",
    "    else:\n",
    "        return gcd(b, a % b)"
   ]
  },
  {
   "cell_type": "code",
   "execution_count": 33,
   "id": "e93fc972",
   "metadata": {},
   "outputs": [
    {
     "data": {
      "text/plain": [
       "30"
      ]
     },
     "execution_count": 33,
     "metadata": {},
     "output_type": "execute_result"
    }
   ],
   "source": [
    "gcd(120,90)"
   ]
  },
  {
   "cell_type": "code",
   "execution_count": 34,
   "id": "e7b05631",
   "metadata": {},
   "outputs": [
    {
     "data": {
      "text/plain": [
       "3"
      ]
     },
     "execution_count": 34,
     "metadata": {},
     "output_type": "execute_result"
    }
   ],
   "source": [
    "gcd(21,48)"
   ]
  },
  {
   "cell_type": "markdown",
   "id": "c020ff92",
   "metadata": {},
   "source": [
    "# THANK YOU"
   ]
  }
 ],
 "metadata": {
  "kernelspec": {
   "display_name": "Python 3.11",
   "language": "python",
   "name": "python3.11"
  },
  "language_info": {
   "codemirror_mode": {
    "name": "ipython",
    "version": 3
   },
   "file_extension": ".py",
   "mimetype": "text/x-python",
   "name": "python",
   "nbconvert_exporter": "python",
   "pygments_lexer": "ipython3",
   "version": "3.11.3"
  }
 },
 "nbformat": 4,
 "nbformat_minor": 5
}
