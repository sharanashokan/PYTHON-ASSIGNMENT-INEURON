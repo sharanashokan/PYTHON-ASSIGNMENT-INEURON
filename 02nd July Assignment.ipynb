{
 "cells": [
  {
   "cell_type": "markdown",
   "id": "f72c4709",
   "metadata": {},
   "source": [
    "# 1. Explain what inheritance is in object-oriented programming and why it is used."
   ]
  },
  {
   "cell_type": "markdown",
   "id": "a92e3e1c",
   "metadata": {},
   "source": [
    "# ANSWER"
   ]
  },
  {
   "cell_type": "code",
   "execution_count": 1,
   "id": "afa30b34",
   "metadata": {},
   "outputs": [],
   "source": [
    "#oops inheritance is he concept that allows one class variables and property to inherited by another class\n",
    "#for example\n",
    "class person:\n",
    "    def __init__(self,name):\n",
    "        self.name = name\n",
    "    \n",
    "    def info(self):\n",
    "        print(f\" my name is {self.name}\")"
   ]
  },
  {
   "cell_type": "code",
   "execution_count": 2,
   "id": "ddce5220",
   "metadata": {},
   "outputs": [],
   "source": [
    "class car(person):\n",
    "    def __init__(self,brand,owner_name):\n",
    "        super().__init__(owner_name)\n",
    "        self.brand = brand\n",
    "    def owner(self):\n",
    "        print(f\"THE OWNER OF {self.brand } car is {self.name}\")"
   ]
  },
  {
   "cell_type": "code",
   "execution_count": 3,
   "id": "0eb4cd00",
   "metadata": {},
   "outputs": [],
   "source": [
    "car = car(\"BMW\",\"sharan\")"
   ]
  },
  {
   "cell_type": "code",
   "execution_count": 4,
   "id": "b442e930",
   "metadata": {},
   "outputs": [
    {
     "name": "stdout",
     "output_type": "stream",
     "text": [
      "THE OWNER OF BMW car is sharan\n"
     ]
    }
   ],
   "source": [
    "car.owner()"
   ]
  },
  {
   "cell_type": "markdown",
   "id": "3a987f25",
   "metadata": {},
   "source": [
    "# 2. Discuss the concept of single inheritance and multiple inheritance, highlighting their differences and advantages."
   ]
  },
  {
   "cell_type": "markdown",
   "id": "dcbe7cae",
   "metadata": {},
   "source": [
    "# ANSWER"
   ]
  },
  {
   "cell_type": "code",
   "execution_count": 5,
   "id": "1cd93398",
   "metadata": {},
   "outputs": [],
   "source": [
    "#single inheritance that we can inherite the class propertys in another example\n",
    "class person:\n",
    "    def __init__(self,name):\n",
    "        self.name = name\n",
    "    \n",
    "    def info(self):\n",
    "        print(f\" my name is {self.name}\")\n",
    "class car(person):\n",
    "    def __init__(self,brand,owner_name):\n",
    "        super().__init__(owner_name)\n",
    "        self.brand = brand\n",
    "    def owner(self):\n",
    "        print(f\"THE OWNER OF {self.brand } car is {self.name}\")"
   ]
  },
  {
   "cell_type": "code",
   "execution_count": 6,
   "id": "6c70028c",
   "metadata": {},
   "outputs": [],
   "source": [
    "car = car(\"mesarati\",\"sharan\")"
   ]
  },
  {
   "cell_type": "code",
   "execution_count": 7,
   "id": "68fa29ab",
   "metadata": {},
   "outputs": [
    {
     "name": "stdout",
     "output_type": "stream",
     "text": [
      "THE OWNER OF mesarati car is sharan\n"
     ]
    }
   ],
   "source": [
    "car.owner()"
   ]
  },
  {
   "cell_type": "code",
   "execution_count": 8,
   "id": "65f9c7ec",
   "metadata": {},
   "outputs": [],
   "source": [
    "#when it comes to multiple inheritance .we can call multiple class in a single class\n",
    "class dog:\n",
    "    def __init__(self,name):\n",
    "        self.name = name\n",
    "    def bark(self):\n",
    "        print(f\"{self.name} says woof woof !!!\")\n",
    "class cat:\n",
    "    def __init__(self,name):\n",
    "        self.name = name\n",
    "    def meowy(self):\n",
    "        print(f\"{self.name} says meow meow !!!\")\n",
    "class dog_and_cat(dog,cat):\n",
    "    def __init__(self,name):\n",
    "        super().__init__(name)"
   ]
  },
  {
   "cell_type": "code",
   "execution_count": 9,
   "id": "9875a17b",
   "metadata": {},
   "outputs": [],
   "source": [
    "d_and_c = dog_and_cat(\"jacky\")"
   ]
  },
  {
   "cell_type": "code",
   "execution_count": 10,
   "id": "c3942414",
   "metadata": {},
   "outputs": [
    {
     "name": "stdout",
     "output_type": "stream",
     "text": [
      "jacky says meow meow !!!\n"
     ]
    }
   ],
   "source": [
    "d_and_c.meowy()"
   ]
  },
  {
   "cell_type": "code",
   "execution_count": 11,
   "id": "b1c84b9b",
   "metadata": {},
   "outputs": [
    {
     "name": "stdout",
     "output_type": "stream",
     "text": [
      "jacky says woof woof !!!\n"
     ]
    }
   ],
   "source": [
    "d_and_c.bark()"
   ]
  },
  {
   "cell_type": "markdown",
   "id": "37000361",
   "metadata": {},
   "source": [
    "# 3. Explain the terms \"base class\" and \"derived class\" in the context of inheritance."
   ]
  },
  {
   "cell_type": "markdown",
   "id": "22bf9035",
   "metadata": {},
   "source": [
    "# ANSWER"
   ]
  },
  {
   "cell_type": "code",
   "execution_count": 12,
   "id": "7412be3e",
   "metadata": {},
   "outputs": [],
   "source": [
    "#base class is a parent class by which we can derive new class which is derived class for example\n",
    "\n",
    "#vehicle is a parent class or base class\n",
    "class vehicle:                                                         # this is a parent class\n",
    "    def __init__(self,model):\n",
    "        self.model = model\n",
    "    def info(self):\n",
    "        print(f\"the car brand is {self.model}. and this class is called base class or parent class\")\n",
    "\n",
    "#bmw and ninja is a derived class\n",
    "class bmw(vehicle):\n",
    "    def __init__(self,num_wheels,model):\n",
    "        super().__init__(model)\n",
    "        self.num_wheels = num_wheels\n",
    "    def info(self):\n",
    "        print(f\"the bmw {self.model} has {self.num_wheels} wheels\")\n",
    "class ninja(vehicle):                                                  #this is a derived class\n",
    "    def __init__(self,num_wheels,model):\n",
    "        super().__init__(model)\n",
    "        self.num_wheels = num_wheels\n",
    "    def info(self):\n",
    "        print(f\"the ninja {self.model} has {self.num_wheels} wheels\")"
   ]
  },
  {
   "cell_type": "code",
   "execution_count": 13,
   "id": "c825f0e1",
   "metadata": {},
   "outputs": [],
   "source": [
    "bmw = bmw(4,\"x5\")"
   ]
  },
  {
   "cell_type": "code",
   "execution_count": 14,
   "id": "06ef0f96",
   "metadata": {},
   "outputs": [
    {
     "name": "stdout",
     "output_type": "stream",
     "text": [
      "the bmw x5 has 4 wheels\n"
     ]
    }
   ],
   "source": [
    "bmw.info()"
   ]
  },
  {
   "cell_type": "code",
   "execution_count": 15,
   "id": "8c432f93",
   "metadata": {},
   "outputs": [
    {
     "name": "stdout",
     "output_type": "stream",
     "text": [
      "the ninja h2r has 2 wheels\n"
     ]
    }
   ],
   "source": [
    "ninja = ninja(2,\"h2r\")\n",
    "ninja.info()"
   ]
  },
  {
   "cell_type": "markdown",
   "id": "dcb5856e",
   "metadata": {},
   "source": [
    "# 4. What is the significance of the \"protected\" access modifier in inheritance? How does it differ from \"private\" and \"public\" modifiers?"
   ]
  },
  {
   "cell_type": "markdown",
   "id": "9250a521",
   "metadata": {},
   "source": [
    "# ANSWER"
   ]
  },
  {
   "cell_type": "markdown",
   "id": "dd93e074",
   "metadata": {},
   "source": [
    "# protected access modifier"
   ]
  },
  {
   "cell_type": "code",
   "execution_count": 16,
   "id": "7eb8ba98",
   "metadata": {},
   "outputs": [],
   "source": [
    "#Protected members are indicated by name mangling and are intended for use within the class and its subclasses,\n",
    "\n",
    "#have 2 __ \n",
    "class person:\n",
    "    def __init__(self,name):\n",
    "        self.name = name\n",
    "    def __info(self):\n",
    "        print(f\" my name is {self.name}\")"
   ]
  },
  {
   "cell_type": "code",
   "execution_count": 17,
   "id": "6ab6ccad",
   "metadata": {},
   "outputs": [
    {
     "ename": "AttributeError",
     "evalue": "'person' object has no attribute 'info'",
     "output_type": "error",
     "traceback": [
      "\u001b[1;31m---------------------------------------------------------------------------\u001b[0m",
      "\u001b[1;31mAttributeError\u001b[0m                            Traceback (most recent call last)",
      "Cell \u001b[1;32mIn[17], line 2\u001b[0m\n\u001b[0;32m      1\u001b[0m person \u001b[38;5;241m=\u001b[39m person(\u001b[38;5;124m\"\u001b[39m\u001b[38;5;124msharan\u001b[39m\u001b[38;5;124m\"\u001b[39m)\n\u001b[1;32m----> 2\u001b[0m \u001b[43mperson\u001b[49m\u001b[38;5;241;43m.\u001b[39;49m\u001b[43minfo\u001b[49m() \u001b[38;5;66;03m# we cant use it outside the class.its stricly not alloweded\u001b[39;00m\n",
      "\u001b[1;31mAttributeError\u001b[0m: 'person' object has no attribute 'info'"
     ]
    }
   ],
   "source": [
    "person = person(\"sharan\")\n",
    "try:\n",
    "    person.info() # we cant use it outside the class.its stricly not alloweded\n",
    "except:\n",
    "    print(\"\")"
   ]
  },
  {
   "cell_type": "markdown",
   "id": "8d00c501",
   "metadata": {},
   "source": [
    "# public access modifier"
   ]
  },
  {
   "cell_type": "code",
   "execution_count": 18,
   "id": "38d69620",
   "metadata": {},
   "outputs": [],
   "source": [
    "#have no _underscore its user friendly\n",
    "class person:\n",
    "    def __init__(self,name):\n",
    "        self.name = name\n",
    "    def info(self):\n",
    "        print(f\" my name is {self.name}\")"
   ]
  },
  {
   "cell_type": "code",
   "execution_count": 19,
   "id": "36e43aff",
   "metadata": {},
   "outputs": [
    {
     "name": "stdout",
     "output_type": "stream",
     "text": [
      " my name is sharan\n"
     ]
    }
   ],
   "source": [
    "person = person(\"sharan\")\n",
    "person.info() #its user friendly"
   ]
  },
  {
   "cell_type": "markdown",
   "id": "568f0650",
   "metadata": {},
   "source": [
    "# private access modifier"
   ]
  },
  {
   "cell_type": "code",
   "execution_count": 20,
   "id": "4c08eb2a",
   "metadata": {},
   "outputs": [],
   "source": [
    "#have _ single underscore and its a warning sign for developers not to directly use it outside the class\n",
    "class person:\n",
    "    def __init__(self,name):\n",
    "        self.name = name\n",
    "    def _info(self):\n",
    "        print(f\" my name is {self.name}\")"
   ]
  },
  {
   "cell_type": "code",
   "execution_count": 21,
   "id": "fddfb909",
   "metadata": {},
   "outputs": [
    {
     "ename": "AttributeError",
     "evalue": "'person' object has no attribute 'info'",
     "output_type": "error",
     "traceback": [
      "\u001b[1;31m---------------------------------------------------------------------------\u001b[0m",
      "\u001b[1;31mAttributeError\u001b[0m                            Traceback (most recent call last)",
      "Cell \u001b[1;32mIn[21], line 2\u001b[0m\n\u001b[0;32m      1\u001b[0m person \u001b[38;5;241m=\u001b[39m person(\u001b[38;5;124m\"\u001b[39m\u001b[38;5;124msharan\u001b[39m\u001b[38;5;124m\"\u001b[39m)\n\u001b[1;32m----> 2\u001b[0m \u001b[43mperson\u001b[49m\u001b[38;5;241;43m.\u001b[39;49m\u001b[43minfo\u001b[49m() \u001b[38;5;66;03m#its not totally protected . we can use it inside the class and it is a general warning\u001b[39;00m\n",
      "\u001b[1;31mAttributeError\u001b[0m: 'person' object has no attribute 'info'"
     ]
    }
   ],
   "source": [
    "person = person(\"sharan\")\n",
    "person.info() #its not totally protected . we can use it inside the class and it is a general warning"
   ]
  },
  {
   "cell_type": "markdown",
   "id": "0ec76ee9",
   "metadata": {},
   "source": [
    "# 5. What is the purpose of the \"super\" keyword in inheritance? Provide an example."
   ]
  },
  {
   "cell_type": "markdown",
   "id": "ecfa31a1",
   "metadata": {},
   "source": [
    "# ANSWER"
   ]
  },
  {
   "cell_type": "code",
   "execution_count": 22,
   "id": "bce76c57",
   "metadata": {},
   "outputs": [],
   "source": [
    "class person:\n",
    "    def __init__(self,name):\n",
    "        self.name =name\n",
    "    def info(self):\n",
    "        pass\n",
    "class age(person):\n",
    "    def __init__(self,name,age):\n",
    "        super().__init__(name)\n",
    "        self.age = age\n",
    "    def info(self):\n",
    "        print(f\"we can access the other class using super. the name is {self.name} and the age is {self.age} this is why we use super keyword\")"
   ]
  },
  {
   "cell_type": "code",
   "execution_count": 23,
   "id": "5db844fe",
   "metadata": {},
   "outputs": [
    {
     "name": "stdout",
     "output_type": "stream",
     "text": [
      "we can access the other class using super. the name is sharan and the age is 21 this is why we use super keyword\n"
     ]
    }
   ],
   "source": [
    "person = age(\"sharan\",21)\n",
    "person.info()"
   ]
  },
  {
   "cell_type": "markdown",
   "id": "85798350",
   "metadata": {},
   "source": [
    "# 6. Create a base class called \"Vehicle\" with attributes like \"make\", \"model\", and \"year\".\n",
    "Then, create a derived class called \"Car\" that inherits from \"Vehicle\" and adds an\n",
    "attribute called \"fuel_type\". Implement appropriate methods in both classes."
   ]
  },
  {
   "cell_type": "code",
   "execution_count": 24,
   "id": "be0edd31",
   "metadata": {},
   "outputs": [],
   "source": [
    "class vehicle:\n",
    "    def __init__(self,make,model,year):\n",
    "        self.make = make\n",
    "        self.model = model\n",
    "        self.year = year\n",
    "    def info(self):\n",
    "        print(f\"make = {self.make},model = {self.model},year = {self.year}\")\n",
    "class car(vehicle):\n",
    "    def __init__(self,make,model,year,fuel_type):\n",
    "        super().__init__(make,model,year)\n",
    "        self.fuel_type = fuel_type\n",
    "    def info(self):\n",
    "        print(f\"make = {self.make},model = {self.model},year = {self.year},fuel = {self.fuel_type}\")"
   ]
  },
  {
   "cell_type": "code",
   "execution_count": 25,
   "id": "f918c346",
   "metadata": {},
   "outputs": [],
   "source": [
    "car = car(\"LAMBORGINI\",\"GALLARDO\",2008,\"PETROL\")"
   ]
  },
  {
   "cell_type": "code",
   "execution_count": 26,
   "id": "6427169d",
   "metadata": {},
   "outputs": [
    {
     "name": "stdout",
     "output_type": "stream",
     "text": [
      "make = LAMBORGINI,model = GALLARDO,year = 2008,fuel = PETROL\n"
     ]
    }
   ],
   "source": [
    "car.info()"
   ]
  },
  {
   "cell_type": "markdown",
   "id": "03802478",
   "metadata": {},
   "source": [
    "# 7. Create a base class called \"Employee\" with attributes like \"name\" and \"salary.\"\n",
    "Derive two classes, \"Manager\" and \"Developer,\" from \"Employee.\" Add an additional\n",
    "attribute called \"department\" for the \"Manager\" class and \"programming_language\"\n",
    "for the \"Developer\" class."
   ]
  },
  {
   "cell_type": "markdown",
   "id": "e0e696b1",
   "metadata": {},
   "source": [
    "# ANSWER"
   ]
  },
  {
   "cell_type": "code",
   "execution_count": 27,
   "id": "c785bf87",
   "metadata": {},
   "outputs": [],
   "source": [
    "class Employee:\n",
    "    def __init__(self,name,salary):\n",
    "        self.name = name\n",
    "        self.salary = salary\n",
    "class Manager(Employee):\n",
    "    def __init__(self,name,salary,department):\n",
    "        super().__init__(name,salary)\n",
    "        self.department = department\n",
    "    def info(self):\n",
    "        print(f\"{self.name} is a manager of {self.department} department with the salary of {self.salary}. \")\n",
    "class Developer(Employee):\n",
    "    def __init__(self,name,salary,programming_language):\n",
    "        super().__init__(name,salary)\n",
    "        self.programming_language = programming_language\n",
    "    def info(self):\n",
    "        print(f\"{self.name} is a {self.programming_language} developer and his salary is {self.salary}.\")"
   ]
  },
  {
   "cell_type": "code",
   "execution_count": 28,
   "id": "66e29a48",
   "metadata": {},
   "outputs": [],
   "source": [
    "info = Developer(\"sharan\",\"24LPA\",\"python\")"
   ]
  },
  {
   "cell_type": "code",
   "execution_count": 29,
   "id": "faf699f3",
   "metadata": {},
   "outputs": [
    {
     "name": "stdout",
     "output_type": "stream",
     "text": [
      "sharan is a python developer and his salary is 24LPA.\n"
     ]
    }
   ],
   "source": [
    "info.info()"
   ]
  },
  {
   "cell_type": "code",
   "execution_count": 30,
   "id": "529e803b",
   "metadata": {},
   "outputs": [],
   "source": [
    "man = Manager(\"sharan\",\"55LPA\",\"financial\")"
   ]
  },
  {
   "cell_type": "code",
   "execution_count": 31,
   "id": "0ce0f0b0",
   "metadata": {},
   "outputs": [
    {
     "name": "stdout",
     "output_type": "stream",
     "text": [
      "sharan is a manager of financial department with the salary of 55LPA. \n"
     ]
    }
   ],
   "source": [
    "man.info()"
   ]
  },
  {
   "cell_type": "markdown",
   "id": "e378bbca",
   "metadata": {},
   "source": [
    "# 8. Design a base class called \"Shape\" with attributes like \"colour\" and \"border_width.\" Create derived classes, \"Rectangle\" and \"Circle,\" that inherit from \"Shape\" and add specific attributes like \"length\" and \"width\" for the \"Rectangle\" class and \"radius\" for the \"Circle\" class."
   ]
  },
  {
   "cell_type": "markdown",
   "id": "94b878a6",
   "metadata": {},
   "source": [
    "# ANSWER"
   ]
  },
  {
   "cell_type": "code",
   "execution_count": 9,
   "id": "d1a7abfa",
   "metadata": {},
   "outputs": [],
   "source": [
    "class Shape:\n",
    "    def __init__(self,colour,border_width):\n",
    "        self.colour = colour\n",
    "        self.border_w = border_width\n",
    "    def info(self):\n",
    "        pass\n",
    "class rectangle(Shape):\n",
    "    def __init__(self,colour,border_width,length,width):\n",
    "        super().__init__(colour,border_width)\n",
    "        self.length = length\n",
    "        self.width = width\n",
    "    def info(self):\n",
    "        print(f\"colour = {self.colour} , border_width = {self.border_w} , length = {self.length} width = {self.width}\")\n",
    "class circle(Shape):\n",
    "    def __init__(self,colour,border_width,radius):\n",
    "        super().__init__(colour,border_width)\n",
    "        self.radius = radius\n",
    "    def info(self):\n",
    "        print(f\"colour = {self.colour} , border_width = {self.border_w} , radius = {self.radius}\")"
   ]
  },
  {
   "cell_type": "code",
   "execution_count": 10,
   "id": "6649555a",
   "metadata": {},
   "outputs": [],
   "source": [
    "REC= rectangle(\"red\",\"1.2inch\",\"4cm\",\"4cm\")"
   ]
  },
  {
   "cell_type": "code",
   "execution_count": 11,
   "id": "2594b1c2",
   "metadata": {},
   "outputs": [
    {
     "name": "stdout",
     "output_type": "stream",
     "text": [
      "colour = red , border_width = 1.2inch , length = 4cm width = 4cm\n"
     ]
    }
   ],
   "source": [
    "REC.info()"
   ]
  },
  {
   "cell_type": "code",
   "execution_count": 12,
   "id": "fc4b90e7",
   "metadata": {},
   "outputs": [],
   "source": [
    "cir = circle(\"blue\",\"2.2inch\",\"25cm\")"
   ]
  },
  {
   "cell_type": "code",
   "execution_count": 13,
   "id": "82463551",
   "metadata": {},
   "outputs": [
    {
     "name": "stdout",
     "output_type": "stream",
     "text": [
      "colour = blue , border_width = 2.2inch , radius = 25cm\n"
     ]
    }
   ],
   "source": [
    "cir.info()"
   ]
  },
  {
   "cell_type": "markdown",
   "id": "bb67cbbd",
   "metadata": {},
   "source": [
    "# 9. Create a base class called \"Device\" with attributes like \"brand\" and \"model.\"  Derive two classes, \"Phone\" and \"Tablet,\" from \"Device.\" Add specific attributes like\"screen_size\" for the \"Phone\" class and \"battery_capacity\" for the \"Tablet\" class."
   ]
  },
  {
   "cell_type": "markdown",
   "id": "299051da",
   "metadata": {},
   "source": [
    "# ANSWER"
   ]
  },
  {
   "cell_type": "code",
   "execution_count": 14,
   "id": "5cf6dde6",
   "metadata": {},
   "outputs": [],
   "source": [
    "class Device:\n",
    "    def __init__(self,brand,model):\n",
    "        self.brand = brand\n",
    "        self.model = model\n",
    "class Phone(Device):\n",
    "    def __init__(self,brand,model,screen_size):\n",
    "        super().__init__(brand,model)\n",
    "        self.ss = screen_size\n",
    "    def info(self):\n",
    "        print(f\" The {self.brand} {self.model} has {self.ss} screen size\")\n",
    "class Tablet(Device):\n",
    "    def __init__(self,brand,model,battery_capacity):\n",
    "        super().__init__(brand,model)\n",
    "        self.bc = battery_capacity\n",
    "    def info(self):\n",
    "        print(f\" The {self.brand} {self.model} has {self.bc} battery life\")"
   ]
  },
  {
   "cell_type": "code",
   "execution_count": 15,
   "id": "3f689c56",
   "metadata": {},
   "outputs": [],
   "source": [
    "ph = Phone(\"apple iphone\",\"15 pro max\",\"5.5inchs\")"
   ]
  },
  {
   "cell_type": "code",
   "execution_count": 16,
   "id": "8295e2f7",
   "metadata": {},
   "outputs": [
    {
     "name": "stdout",
     "output_type": "stream",
     "text": [
      " The apple iphone 15 pro max has 5.5inchs screen size\n"
     ]
    }
   ],
   "source": [
    "ph.info()"
   ]
  },
  {
   "cell_type": "code",
   "execution_count": 18,
   "id": "210b08bd",
   "metadata": {},
   "outputs": [],
   "source": [
    "tb = Tablet(\"blackberry\",\"x5\",'98%')"
   ]
  },
  {
   "cell_type": "code",
   "execution_count": 19,
   "id": "e75467e3",
   "metadata": {},
   "outputs": [
    {
     "name": "stdout",
     "output_type": "stream",
     "text": [
      " The blackberry x5 has 98% battery life\n"
     ]
    }
   ],
   "source": [
    "tb.info()"
   ]
  },
  {
   "cell_type": "markdown",
   "id": "6a1623d0",
   "metadata": {},
   "source": [
    "# 10. Create a base class called \"BankAccount\" with attributes like \"account_number\" and \"balance.\" Derive two classes, \"SavingsAccount\" and \"CheckingAccount,\" from \"BankAccount.\" Add specific methods like \"calculate_interest\" for the \"SavingsAccount\" class and \"deduct_fees\" for the \"CheckingAccount\" class."
   ]
  },
  {
   "cell_type": "markdown",
   "id": "7b5e78c6",
   "metadata": {},
   "source": [
    "# ANSWER"
   ]
  },
  {
   "cell_type": "code",
   "execution_count": 20,
   "id": "0365769d",
   "metadata": {},
   "outputs": [],
   "source": [
    "class BankAccount:\n",
    "    def __init__(self,account_no,balance):\n",
    "        self.acc_no = account_no\n",
    "        self.bal = balance\n",
    "    def withdraw(self,amount):\n",
    "        if amount <= self.bal:\n",
    "            self.bal -= amount\n",
    "            print(f\"${amount} successfully debited\")\n",
    "        else:\n",
    "            print(\"insufficient $money$. check available balance\")\n",
    "    def deposit(self,amount):\n",
    "        self.bal += amount\n",
    "    def check_balance(self):\n",
    "        print(f\" now your available balance = {self.bal}\")\n",
    "class SavingAccount(BankAccount):\n",
    "    def __init__(self,account_no,balance):\n",
    "        super().__init__(account_no,balance)\n",
    "    def calculate_interest(self):\n",
    "        interest = self.bal*0.2\n",
    "        self.bal += interest\n",
    "        print(f\"we have added a interest of 0.2% as per the guidance of our bank. your interest is ${interest}\")\n",
    "    def check_balance(self):  \n",
    "        print(f\" now your available balance = {self.bal}\")\n",
    "class CheckingAccount(BankAccount):\n",
    "    def __init__(self,account_no,balance):\n",
    "        super().__init__(account_no,balance)\n",
    "    def deduct_fees(self):\n",
    "        fees = self.bal*0.19\n",
    "        self.bal -= fees\n",
    "        print(f\"we have deducted the amount of ${fees} as per the guidance of the bank\")\n",
    "    def check_balance(self):  \n",
    "        print(f\" now your available balance = {self.bal}\")"
   ]
  },
  {
   "cell_type": "code",
   "execution_count": 23,
   "id": "01ee2856",
   "metadata": {},
   "outputs": [],
   "source": [
    "sa = SavingAccount(9345545898,250)"
   ]
  },
  {
   "cell_type": "code",
   "execution_count": 24,
   "id": "526c640a",
   "metadata": {},
   "outputs": [
    {
     "name": "stdout",
     "output_type": "stream",
     "text": [
      "we have added a interest of 0.2% as per the guidance of our bank. your interest is $50.0\n"
     ]
    }
   ],
   "source": [
    "sa.calculate_interest()"
   ]
  },
  {
   "cell_type": "code",
   "execution_count": 25,
   "id": "3764a367",
   "metadata": {},
   "outputs": [
    {
     "name": "stdout",
     "output_type": "stream",
     "text": [
      " now your available balance = 300.0\n"
     ]
    }
   ],
   "source": [
    "sa.check_balance()"
   ]
  },
  {
   "cell_type": "code",
   "execution_count": 26,
   "id": "75207916",
   "metadata": {},
   "outputs": [],
   "source": [
    "ba = BankAccount(12,2500)"
   ]
  },
  {
   "cell_type": "code",
   "execution_count": 27,
   "id": "8759f497",
   "metadata": {},
   "outputs": [],
   "source": [
    "ba.deposit(25000)"
   ]
  },
  {
   "cell_type": "code",
   "execution_count": 28,
   "id": "709808eb",
   "metadata": {},
   "outputs": [
    {
     "name": "stdout",
     "output_type": "stream",
     "text": [
      " now your available balance = 27500\n"
     ]
    }
   ],
   "source": [
    "ba.check_balance()"
   ]
  },
  {
   "cell_type": "code",
   "execution_count": 29,
   "id": "2ff198f8",
   "metadata": {},
   "outputs": [],
   "source": [
    "ca = CheckingAccount(75,27500)"
   ]
  },
  {
   "cell_type": "code",
   "execution_count": 30,
   "id": "c5b9b397",
   "metadata": {},
   "outputs": [
    {
     "name": "stdout",
     "output_type": "stream",
     "text": [
      " now your available balance = 27500\n"
     ]
    }
   ],
   "source": [
    "ca.check_balance()"
   ]
  },
  {
   "cell_type": "code",
   "execution_count": 31,
   "id": "fd1a988a",
   "metadata": {},
   "outputs": [
    {
     "name": "stdout",
     "output_type": "stream",
     "text": [
      "we have deducted the amount of $5225.0 as per the guidance of the bank\n"
     ]
    }
   ],
   "source": [
    "ca.deduct_fees()"
   ]
  },
  {
   "cell_type": "code",
   "execution_count": null,
   "id": "141d7cec",
   "metadata": {},
   "outputs": [],
   "source": [
    "#if we did not have an attribute of balance then we can have a list will will give even better result"
   ]
  }
 ],
 "metadata": {
  "kernelspec": {
   "display_name": "Python 3.11",
   "language": "python",
   "name": "python3.11"
  },
  "language_info": {
   "codemirror_mode": {
    "name": "ipython",
    "version": 3
   },
   "file_extension": ".py",
   "mimetype": "text/x-python",
   "name": "python",
   "nbconvert_exporter": "python",
   "pygments_lexer": "ipython3",
   "version": "3.11.3"
  }
 },
 "nbformat": 4,
 "nbformat_minor": 5
}
