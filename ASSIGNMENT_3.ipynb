{
 "cells": [
  {
   "cell_type": "markdown",
   "id": "822e1099",
   "metadata": {},
   "source": [
    "# 1. Why are functions advantageous to have in your programs?"
   ]
  },
  {
   "cell_type": "markdown",
   "id": "82c648c2",
   "metadata": {},
   "source": [
    "# ANSWER"
   ]
  },
  {
   "cell_type": "code",
   "execution_count": 26,
   "id": "2890d241",
   "metadata": {},
   "outputs": [
    {
     "name": "stdout",
     "output_type": "stream",
     "text": [
      "hello\n"
     ]
    }
   ],
   "source": [
    "#we can reuse functions anytime we need\n",
    "#function helps code to break and we can write code like modules and it make code easy and smaller\n",
    "#we can write our function according to our need and specification\n",
    "#more readablilty and understanding while we write code as a function\n",
    "def example():\n",
    "    print(\"hello\")\n",
    "example()"
   ]
  },
  {
   "cell_type": "markdown",
   "id": "f6a8c2b1",
   "metadata": {},
   "source": [
    "# 2. When does the code in a function run: when it&#39;s specified or when it&#39;s called?"
   ]
  },
  {
   "cell_type": "markdown",
   "id": "339470ea",
   "metadata": {},
   "source": [
    "# ANSWER"
   ]
  },
  {
   "cell_type": "code",
   "execution_count": 4,
   "id": "742402b1",
   "metadata": {},
   "outputs": [],
   "source": [
    "#when we specify\n",
    "def function():\n",
    "    print('hello')"
   ]
  },
  {
   "cell_type": "code",
   "execution_count": 5,
   "id": "5dc8a52b",
   "metadata": {},
   "outputs": [
    {
     "name": "stdout",
     "output_type": "stream",
     "text": [
      "hello\n"
     ]
    }
   ],
   "source": [
    "#when we call it\n",
    "function()"
   ]
  },
  {
   "cell_type": "code",
   "execution_count": 6,
   "id": "51725443",
   "metadata": {},
   "outputs": [],
   "source": [
    "#so function will run when we call it not when we specify it"
   ]
  },
  {
   "cell_type": "markdown",
   "id": "ffc11c35",
   "metadata": {},
   "source": [
    "# 3. What statement creates a function?"
   ]
  },
  {
   "cell_type": "markdown",
   "id": "325b5608",
   "metadata": {},
   "source": [
    "# ANSWER"
   ]
  },
  {
   "cell_type": "code",
   "execution_count": 11,
   "id": "da907f85",
   "metadata": {},
   "outputs": [],
   "source": [
    "#define statement creates a function   \"def\"\n",
    "x=[1,2,3,4,5,6]\n",
    "def odd(y):\n",
    "    for i in y:\n",
    "        if i % 2 != 0:\n",
    "            print(\"odd\")\n",
    "        else:\n",
    "            print(\"even\")"
   ]
  },
  {
   "cell_type": "code",
   "execution_count": 12,
   "id": "b5fcb726",
   "metadata": {},
   "outputs": [
    {
     "name": "stdout",
     "output_type": "stream",
     "text": [
      "odd\n",
      "even\n",
      "odd\n",
      "even\n",
      "odd\n",
      "even\n"
     ]
    }
   ],
   "source": [
    "odd(x)"
   ]
  },
  {
   "cell_type": "markdown",
   "id": "b3d25260",
   "metadata": {},
   "source": [
    "# 4. What is the difference between a function and a function call?"
   ]
  },
  {
   "cell_type": "markdown",
   "id": "83610da8",
   "metadata": {},
   "source": [
    "# ANSWER"
   ]
  },
  {
   "cell_type": "code",
   "execution_count": 13,
   "id": "77563ec0",
   "metadata": {},
   "outputs": [],
   "source": [
    "# a function is like a formula for example\n",
    "\n",
    "def area_of_rectangle(l,b):\n",
    "    area = l * b\n",
    "    perimeter = 2*(l+b)\n",
    "    print(\"area = \",area,\"perimeter = \",perimeter)"
   ]
  },
  {
   "cell_type": "code",
   "execution_count": 15,
   "id": "49ceb9f1",
   "metadata": {},
   "outputs": [
    {
     "name": "stdout",
     "output_type": "stream",
     "text": [
      "area =  6 perimeter =  10\n"
     ]
    }
   ],
   "source": [
    "# a funcion call is like using a already written formula\n",
    "\n",
    "area_of_rectangle(3,2)"
   ]
  },
  {
   "cell_type": "markdown",
   "id": "c4a3933e",
   "metadata": {},
   "source": [
    "# 5. How many global scopes are there in a Python program? How many local scopes?"
   ]
  },
  {
   "cell_type": "markdown",
   "id": "b8afdbaf",
   "metadata": {},
   "source": [
    "# ANSWER"
   ]
  },
  {
   "cell_type": "code",
   "execution_count": 18,
   "id": "fd590912",
   "metadata": {},
   "outputs": [],
   "source": [
    "#there is only one global scope for example\n",
    "x = 0\n",
    "#local variable\n",
    "def local():\n",
    "    x = 2\n",
    "    print(x)"
   ]
  },
  {
   "cell_type": "code",
   "execution_count": 19,
   "id": "956c1159",
   "metadata": {},
   "outputs": [
    {
     "name": "stdout",
     "output_type": "stream",
     "text": [
      "0\n"
     ]
    }
   ],
   "source": [
    "print(x) #global varaible"
   ]
  },
  {
   "cell_type": "code",
   "execution_count": 20,
   "id": "a164c1f5",
   "metadata": {},
   "outputs": [
    {
     "name": "stdout",
     "output_type": "stream",
     "text": [
      "2\n"
     ]
    }
   ],
   "source": [
    "local() #local variabale"
   ]
  },
  {
   "cell_type": "markdown",
   "id": "5329d120",
   "metadata": {},
   "source": [
    "# 6. What happens to variables in a local scope when the function call returns?"
   ]
  },
  {
   "cell_type": "markdown",
   "id": "17d606ce",
   "metadata": {},
   "source": [
    "# ANSWER"
   ]
  },
  {
   "cell_type": "code",
   "execution_count": 24,
   "id": "78479088",
   "metadata": {},
   "outputs": [
    {
     "name": "stdout",
     "output_type": "stream",
     "text": [
      "10 perimeter before return statement\n"
     ]
    },
    {
     "data": {
      "text/plain": [
       "6"
      ]
     },
     "execution_count": 24,
     "metadata": {},
     "output_type": "execute_result"
    }
   ],
   "source": [
    "def area_of_rectangle(l,b):\n",
    "    area = l * b\n",
    "    perimeter = 2*(l+b)\n",
    "    print(perimeter,\"perimeter before return statement\")\n",
    "    return area\n",
    "    print(perimeter,\"after return statement\") #after return inllocal the variable is vanished no longer able to print perimeter\n",
    "area_of_rectangle(2,3)"
   ]
  },
  {
   "cell_type": "code",
   "execution_count": 25,
   "id": "a252ddb1",
   "metadata": {},
   "outputs": [],
   "source": [
    "#so variable will vanish after return statement is used"
   ]
  },
  {
   "cell_type": "markdown",
   "id": "b03b003a",
   "metadata": {},
   "source": [
    "# 7. What is the concept of a return value? Is it possible to have a return value in an expression?"
   ]
  },
  {
   "cell_type": "markdown",
   "id": "d1d6d4d1",
   "metadata": {},
   "source": [
    "# ANSWER"
   ]
  },
  {
   "cell_type": "code",
   "execution_count": 49,
   "id": "6c3d52f0",
   "metadata": {},
   "outputs": [
    {
     "data": {
      "text/plain": [
       "49"
      ]
     },
     "execution_count": 49,
     "metadata": {},
     "output_type": "execute_result"
    }
   ],
   "source": [
    "# after creating return we can set a variable which carry the solution and\n",
    "# we use return to output the varibale from the function\n",
    "def fun(x):\n",
    "    x = x**2\n",
    "    return x\n",
    "fun(7)"
   ]
  },
  {
   "cell_type": "code",
   "execution_count": 50,
   "id": "fdc3a428",
   "metadata": {},
   "outputs": [
    {
     "data": {
      "text/plain": [
       "144"
      ]
     },
     "execution_count": 50,
     "metadata": {},
     "output_type": "execute_result"
    }
   ],
   "source": [
    "def sun(y):\n",
    "    return y**2\n",
    "sun(12)           #so it is possible to write an expression directly in return"
   ]
  },
  {
   "cell_type": "markdown",
   "id": "31aa52b6",
   "metadata": {},
   "source": [
    "# 8. If a function does not have a return statement, what is the return value of a call to that function?"
   ]
  },
  {
   "cell_type": "markdown",
   "id": "e9aa1894",
   "metadata": {},
   "source": [
    "# ANSWER"
   ]
  },
  {
   "cell_type": "code",
   "execution_count": 59,
   "id": "fac8c8bc",
   "metadata": {},
   "outputs": [],
   "source": [
    "# IF WE ARE NOT USING RETURN IN A FUNCTION THEN THERE WILL NO OUTPUT FROM THE FUNCTION SIMPLY WE CAN PRINT\n",
    "def fun(x):\n",
    "    w = x + x"
   ]
  },
  {
   "cell_type": "code",
   "execution_count": 61,
   "id": "fe94acc4",
   "metadata": {},
   "outputs": [
    {
     "name": "stdout",
     "output_type": "stream",
     "text": [
      "None\n"
     ]
    }
   ],
   "source": [
    "print(fun(10)) # its show none it will not return anything"
   ]
  },
  {
   "cell_type": "code",
   "execution_count": 57,
   "id": "bb834b1d",
   "metadata": {},
   "outputs": [],
   "source": [
    "# WE CANT USE VARIABLE OUTSIDE THE FUNCTION \n",
    "# WE NEED RETURN \n",
    "def fun(x):\n",
    "    w = x + x\n",
    "    return w"
   ]
  },
  {
   "cell_type": "code",
   "execution_count": 58,
   "id": "b6fdae41",
   "metadata": {},
   "outputs": [
    {
     "data": {
      "text/plain": [
       "20"
      ]
     },
     "execution_count": 58,
     "metadata": {},
     "output_type": "execute_result"
    }
   ],
   "source": [
    "fun(10) #now the value returned is real output"
   ]
  },
  {
   "cell_type": "markdown",
   "id": "561ad3fb",
   "metadata": {},
   "source": [
    "# 9. How do you make a function variable refer to the global variable?"
   ]
  },
  {
   "cell_type": "markdown",
   "id": "d3131938",
   "metadata": {},
   "source": [
    "# ANSWER"
   ]
  },
  {
   "cell_type": "code",
   "execution_count": 72,
   "id": "5dcf8f43",
   "metadata": {},
   "outputs": [],
   "source": [
    "#very easy first create a global variable\n",
    "x = 1000\n",
    "def fun():\n",
    "    global x\n",
    "    print(x)"
   ]
  },
  {
   "cell_type": "code",
   "execution_count": 73,
   "id": "634666bd",
   "metadata": {},
   "outputs": [
    {
     "name": "stdout",
     "output_type": "stream",
     "text": [
      "1000\n"
     ]
    }
   ],
   "source": [
    "fun()"
   ]
  },
  {
   "cell_type": "markdown",
   "id": "6fc7cb43",
   "metadata": {},
   "source": [
    "# 10. What is the data type of None?"
   ]
  },
  {
   "cell_type": "markdown",
   "id": "82d3fc43",
   "metadata": {},
   "source": [
    "# ANSWER"
   ]
  },
  {
   "cell_type": "code",
   "execution_count": 74,
   "id": "cc1a5cf3",
   "metadata": {},
   "outputs": [
    {
     "data": {
      "text/plain": [
       "NoneType"
      ]
     },
     "execution_count": 74,
     "metadata": {},
     "output_type": "execute_result"
    }
   ],
   "source": [
    "type(None)"
   ]
  },
  {
   "cell_type": "markdown",
   "id": "1f88300e",
   "metadata": {},
   "source": [
    "# 11. What does the sentence import areallyourpetsnamederic do?"
   ]
  },
  {
   "cell_type": "markdown",
   "id": "0fcacf16",
   "metadata": {},
   "source": [
    "# ANSWER"
   ]
  },
  {
   "cell_type": "code",
   "execution_count": 76,
   "id": "8f2d23f6",
   "metadata": {},
   "outputs": [
    {
     "ename": "ModuleNotFoundError",
     "evalue": "No module named 'areallyourpetsnamederic'",
     "output_type": "error",
     "traceback": [
      "\u001b[1;31m---------------------------------------------------------------------------\u001b[0m",
      "\u001b[1;31mModuleNotFoundError\u001b[0m                       Traceback (most recent call last)",
      "Cell \u001b[1;32mIn[76], line 1\u001b[0m\n\u001b[1;32m----> 1\u001b[0m \u001b[38;5;28;01mimport\u001b[39;00m \u001b[38;5;21;01mareallyourpetsnamederic\u001b[39;00m\n",
      "\u001b[1;31mModuleNotFoundError\u001b[0m: No module named 'areallyourpetsnamederic'"
     ]
    }
   ],
   "source": [
    "import areallyourpetsnamederic"
   ]
  },
  {
   "cell_type": "code",
   "execution_count": 77,
   "id": "f47004f8",
   "metadata": {},
   "outputs": [],
   "source": [
    "#it is try to import a module which does not exist or not yet in a python standard library"
   ]
  },
  {
   "cell_type": "markdown",
   "id": "5fce04e6",
   "metadata": {},
   "source": [
    "# 12. If you had a bacon() feature in a spam module, what would you call it after importing spam?"
   ]
  },
  {
   "cell_type": "markdown",
   "id": "bf6890a3",
   "metadata": {},
   "source": [
    "# ANSWER"
   ]
  },
  {
   "cell_type": "code",
   "execution_count": 79,
   "id": "32ea780a",
   "metadata": {},
   "outputs": [],
   "source": [
    "#import spam\n",
    "#spam.bacon()\n",
    "\n",
    "#or\n",
    "\n",
    "#from spam import bacon\n",
    "#bacon()"
   ]
  },
  {
   "cell_type": "markdown",
   "id": "e78f26f7",
   "metadata": {},
   "source": [
    "# 13. What can you do to save a programme from crashing if it encounters an error?"
   ]
  },
  {
   "cell_type": "markdown",
   "id": "ed3103d8",
   "metadata": {},
   "source": [
    "# ANSWER"
   ]
  },
  {
   "cell_type": "code",
   "execution_count": 82,
   "id": "fb8ff18a",
   "metadata": {},
   "outputs": [
    {
     "name": "stdout",
     "output_type": "stream",
     "text": [
      "ENTER A NUMBER12\n",
      "12\n"
     ]
    }
   ],
   "source": [
    "#use try and exception method\n",
    "try:\n",
    "    x = int(input(\"ENTER A NUMBER\"))\n",
    "    print(x)\n",
    "except:\n",
    "    print(\"use only number , donn't use words or (.) or decimal points\")"
   ]
  },
  {
   "cell_type": "code",
   "execution_count": 83,
   "id": "d995342a",
   "metadata": {},
   "outputs": [
    {
     "name": "stdout",
     "output_type": "stream",
     "text": [
      "ENTER A NUMBER12.77\n",
      "use only number , donn't use words or (.) or decimal points\n"
     ]
    }
   ],
   "source": [
    "try:\n",
    "    x = int(input(\"ENTER A NUMBER\"))\n",
    "    print(x)\n",
    "except:\n",
    "    print(\"use only number , donn't use words or (.) or decimal points\")"
   ]
  },
  {
   "cell_type": "markdown",
   "id": "4be95ddf",
   "metadata": {},
   "source": [
    "# 14. What is the purpose of the try clause? What is the purpose of the except clause?"
   ]
  },
  {
   "cell_type": "markdown",
   "id": "7f403441",
   "metadata": {},
   "source": [
    "# ANSWER"
   ]
  },
  {
   "cell_type": "code",
   "execution_count": 85,
   "id": "891d9924",
   "metadata": {},
   "outputs": [
    {
     "name": "stdout",
     "output_type": "stream",
     "text": [
      "ENTER A NUMef\n",
      "invalid number , try to give a valid num according to noms\n",
      "try to use integer number\n",
      "dont enter any words just numeric values\n"
     ]
    }
   ],
   "source": [
    "#we use try clause when we use risky code which may have some errors. \n",
    "#try will help us to handle the errors by not breakin the code\n",
    "\n",
    "#except clause which help us to determine the error and give some instruction \n",
    "#where tell like invalid request, we can explain to user how to get rid of error with except.\n",
    "\n",
    "try:\n",
    "    y = int(input(\"ENTER A NUM\"))\n",
    "    print(y)\n",
    "except:\n",
    "    print(\"invalid number , try to give a valid num according to noms\")\n",
    "    print(\"try to use integer number\")\n",
    "    print(\"dont enter any words just numeric values\")"
   ]
  },
  {
   "cell_type": "code",
   "execution_count": null,
   "id": "176068ab",
   "metadata": {},
   "outputs": [],
   "source": []
  }
 ],
 "metadata": {
  "kernelspec": {
   "display_name": "Python 3.11",
   "language": "python",
   "name": "python3.11"
  },
  "language_info": {
   "codemirror_mode": {
    "name": "ipython",
    "version": 3
   },
   "file_extension": ".py",
   "mimetype": "text/x-python",
   "name": "python",
   "nbconvert_exporter": "python",
   "pygments_lexer": "ipython3",
   "version": "3.11.3"
  }
 },
 "nbformat": 4,
 "nbformat_minor": 5
}
