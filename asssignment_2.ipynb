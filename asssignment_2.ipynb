{
 "cells": [
  {
   "cell_type": "markdown",
   "id": "0205ad67",
   "metadata": {},
   "source": [
    "# 1.What are the two values of the Boolean data type? How do you write them?"
   ]
  },
  {
   "cell_type": "markdown",
   "id": "46037e81",
   "metadata": {},
   "source": [
    "# ANSWER"
   ]
  },
  {
   "cell_type": "code",
   "execution_count": 1,
   "id": "8f8227ad",
   "metadata": {},
   "outputs": [
    {
     "data": {
      "text/plain": [
       "False"
      ]
     },
     "execution_count": 1,
     "metadata": {},
     "output_type": "execute_result"
    }
   ],
   "source": [
    "#TRUE  AND  FALSE\n",
    "\n",
    "EXAMPLE = 10 < 2\n",
    "EXAMPLE"
   ]
  },
  {
   "cell_type": "code",
   "execution_count": 2,
   "id": "0f6e6c4b",
   "metadata": {},
   "outputs": [
    {
     "data": {
      "text/plain": [
       "True"
      ]
     },
     "execution_count": 2,
     "metadata": {},
     "output_type": "execute_result"
    }
   ],
   "source": [
    "EXAMPLE = 2 > 1\n",
    "EXAMPLE"
   ]
  },
  {
   "cell_type": "markdown",
   "id": "7d8b11d8",
   "metadata": {},
   "source": [
    "# 2. What are the three different types of Boolean operators?"
   ]
  },
  {
   "cell_type": "markdown",
   "id": "e909ccac",
   "metadata": {},
   "source": [
    "# ANSWER"
   ]
  },
  {
   "cell_type": "code",
   "execution_count": 3,
   "id": "5fc5163c",
   "metadata": {},
   "outputs": [],
   "source": [
    "# AND = BOTH MUST BE TRUE\n",
    "# OR = IF ANY ONE IS TRUE\n",
    "# NOT = THE MUST BE FALSE"
   ]
  },
  {
   "cell_type": "code",
   "execution_count": 4,
   "id": "e2802cc6",
   "metadata": {},
   "outputs": [
    {
     "name": "stdout",
     "output_type": "stream",
     "text": [
      "its an example of and operator =  0\n",
      "_________\n",
      "its an example of or operator  =  1\n",
      "_________\n",
      "its an example of and operator =  2\n",
      "_________\n",
      "its an example of or operator  =  3\n",
      "_________\n",
      "its an example of and operator =  4\n",
      "_________\n",
      "its an example of not operator  =  5\n",
      "_________\n"
     ]
    }
   ],
   "source": [
    "for i in range(6):\n",
    "    if i % 2 == 0 and i < 5:\n",
    "        print(\"its an example of and operator = \", i )\n",
    "        print('_________')\n",
    "    elif i%2 == 0 or i < 5:\n",
    "        print(\"its an example of or operator  = \", i )\n",
    "        print('_________')\n",
    "    elif not i%2 ==0:\n",
    "        print(\"its an example of not operator  = \", i )\n",
    "        print('_________')\n",
    "    else:\n",
    "        continue"
   ]
  },
  {
   "cell_type": "markdown",
   "id": "e672347a",
   "metadata": {},
   "source": [
    "# 3. Make a list of each Boolean operator&#39;s truth tables (i.e. every possible combination of Boolean values for the operator and what it evaluate )."
   ]
  },
  {
   "cell_type": "markdown",
   "id": "3f3101f2",
   "metadata": {},
   "source": [
    "# ANSWER"
   ]
  },
  {
   "cell_type": "code",
   "execution_count": 5,
   "id": "1d289bb3",
   "metadata": {},
   "outputs": [
    {
     "name": "stdout",
     "output_type": "stream",
     "text": [
      "true + true = true\n",
      "true + false = false\n",
      "false + true = false\n",
      "false + false = false\n"
     ]
    }
   ],
   "source": [
    "# AND OPERATOR\n",
    "print(\"\"\"true + true = true\n",
    "true + false = false\n",
    "false + true = false\n",
    "false + false = false\"\"\")"
   ]
  },
  {
   "cell_type": "code",
   "execution_count": 6,
   "id": "991be88f",
   "metadata": {},
   "outputs": [
    {
     "name": "stdout",
     "output_type": "stream",
     "text": [
      "true + true = true\n",
      "false + true = true\n",
      "true + false = true\n",
      "false +false = false\n"
     ]
    }
   ],
   "source": [
    "# OR OPERATOR\n",
    "print(\"\"\"true + true = true\n",
    "false + true = true\n",
    "true + false = true\n",
    "false +false = false\"\"\")"
   ]
  },
  {
   "cell_type": "code",
   "execution_count": 7,
   "id": "b3f23716",
   "metadata": {},
   "outputs": [
    {
     "name": "stdout",
     "output_type": "stream",
     "text": [
      "true = false\n",
      "false = true\n"
     ]
    }
   ],
   "source": [
    "# NOT OPERATOR\n",
    "print(\"\"\"true = false\n",
    "false = true\"\"\")"
   ]
  },
  {
   "cell_type": "code",
   "execution_count": 8,
   "id": "bce6ded7",
   "metadata": {},
   "outputs": [
    {
     "name": "stdout",
     "output_type": "stream",
     "text": [
      "its an example of and operator =  0\n",
      "_________\n",
      "its an example of or operator  =  1\n",
      "_________\n",
      "its an example of and operator =  2\n",
      "_________\n",
      "its an example of or operator  =  3\n",
      "_________\n",
      "its an example of and operator =  4\n",
      "_________\n",
      "its an example of not operator  =  5\n",
      "_________\n"
     ]
    }
   ],
   "source": [
    "for i in range(6):\n",
    "    if i % 2 == 0 and i < 5:\n",
    "        print(\"its an example of and operator = \", i )\n",
    "        print('_________')\n",
    "    elif i%2 == 0 or i < 5:\n",
    "        print(\"its an example of or operator  = \", i )\n",
    "        print('_________')\n",
    "    elif not i%2 ==0:\n",
    "        print(\"its an example of not operator  = \", i )\n",
    "        print('_________')\n",
    "    else:\n",
    "        continue"
   ]
  },
  {
   "cell_type": "markdown",
   "id": "934ffce4",
   "metadata": {},
   "source": [
    "# 4. What are the values of the following expressions? (5 >4) and (3 == 5) not (5 > 4) (5 > 4) or (3 == 5) not ((5 > 4) or (3 == 5))(True and True) and (True == False) (not False) or (not True)"
   ]
  },
  {
   "cell_type": "markdown",
   "id": "3ff6f62b",
   "metadata": {},
   "source": [
    "# ANSWER"
   ]
  },
  {
   "cell_type": "code",
   "execution_count": 9,
   "id": "e990a18f",
   "metadata": {},
   "outputs": [
    {
     "data": {
      "text/plain": [
       "False"
      ]
     },
     "execution_count": 9,
     "metadata": {},
     "output_type": "execute_result"
    }
   ],
   "source": [
    "5>4 and 3==5"
   ]
  },
  {
   "cell_type": "code",
   "execution_count": 10,
   "id": "7adeb81f",
   "metadata": {},
   "outputs": [
    {
     "data": {
      "text/plain": [
       "False"
      ]
     },
     "execution_count": 10,
     "metadata": {},
     "output_type": "execute_result"
    }
   ],
   "source": [
    "not 5 > 4"
   ]
  },
  {
   "cell_type": "code",
   "execution_count": 11,
   "id": "78271128",
   "metadata": {},
   "outputs": [
    {
     "data": {
      "text/plain": [
       "True"
      ]
     },
     "execution_count": 11,
     "metadata": {},
     "output_type": "execute_result"
    }
   ],
   "source": [
    "(5 > 4) or (3 == 5)"
   ]
  },
  {
   "cell_type": "code",
   "execution_count": 12,
   "id": "49578666",
   "metadata": {},
   "outputs": [
    {
     "data": {
      "text/plain": [
       "False"
      ]
     },
     "execution_count": 12,
     "metadata": {},
     "output_type": "execute_result"
    }
   ],
   "source": [
    "not ((5 > 4) or (3 == 5))"
   ]
  },
  {
   "cell_type": "code",
   "execution_count": 13,
   "id": "18c6dc53",
   "metadata": {},
   "outputs": [
    {
     "data": {
      "text/plain": [
       "False"
      ]
     },
     "execution_count": 13,
     "metadata": {},
     "output_type": "execute_result"
    }
   ],
   "source": [
    "(True and True) and (True == False)"
   ]
  },
  {
   "cell_type": "code",
   "execution_count": 14,
   "id": "bd019aa2",
   "metadata": {},
   "outputs": [
    {
     "data": {
      "text/plain": [
       "True"
      ]
     },
     "execution_count": 14,
     "metadata": {},
     "output_type": "execute_result"
    }
   ],
   "source": [
    "(not False) or (not True)"
   ]
  },
  {
   "cell_type": "markdown",
   "id": "849b699a",
   "metadata": {},
   "source": [
    "# 5. What are the six comparison operators?"
   ]
  },
  {
   "cell_type": "markdown",
   "id": "6825e4fb",
   "metadata": {},
   "source": [
    "# ANSWER"
   ]
  },
  {
   "cell_type": "code",
   "execution_count": 28,
   "id": "f8c3007b",
   "metadata": {},
   "outputs": [
    {
     "name": "stdout",
     "output_type": "stream",
     "text": [
      "0 equal to\n",
      "1 less than\n",
      "2 less than or equal to\n",
      "not equal to\n",
      "not equal to\n",
      "not equal to\n",
      "not equal to\n",
      "not equal to\n",
      "9 greater than or equal to\n"
     ]
    }
   ],
   "source": [
    "for i in range(10):\n",
    "    if i == 0:\n",
    "        print(i,\"equal to\")\n",
    "    elif i < 2:\n",
    "        print(i,\"less than\")\n",
    "    elif i > 7 and i < 8:\n",
    "        print(i ,\"greater than\")\n",
    "    elif i <= 2:\n",
    "        print(i,\"less than or equal to\")\n",
    "    elif i >= 9:\n",
    "        print(i ,\"greater than or equal to\")\n",
    "    elif i != 5:\n",
    "        print(\"not equal to\")\n",
    "    else:\n",
    "        continue"
   ]
  },
  {
   "cell_type": "code",
   "execution_count": 30,
   "id": "604bb6eb",
   "metadata": {},
   "outputs": [
    {
     "data": {
      "text/plain": [
       "True"
      ]
     },
     "execution_count": 30,
     "metadata": {},
     "output_type": "execute_result"
    }
   ],
   "source": [
    "1 > 0  # greater thaan"
   ]
  },
  {
   "cell_type": "markdown",
   "id": "3f1f974e",
   "metadata": {},
   "source": [
    "# 6. How do you tell the difference between the equal to and assignment operators?Describe a condition and when you would use one."
   ]
  },
  {
   "cell_type": "markdown",
   "id": "67d99835",
   "metadata": {},
   "source": [
    "# ANSWER"
   ]
  },
  {
   "cell_type": "code",
   "execution_count": 32,
   "id": "6eafa854",
   "metadata": {},
   "outputs": [
    {
     "data": {
      "text/plain": [
       "False"
      ]
     },
     "execution_count": 32,
     "metadata": {},
     "output_type": "execute_result"
    }
   ],
   "source": [
    "x = 1\n",
    "x == 2"
   ]
  },
  {
   "cell_type": "code",
   "execution_count": 33,
   "id": "9ae24554",
   "metadata": {},
   "outputs": [
    {
     "name": "stdout",
     "output_type": "stream",
     "text": [
      "2\n"
     ]
    }
   ],
   "source": [
    "x = 1\n",
    "x = 2\n",
    "print(x)"
   ]
  },
  {
   "cell_type": "code",
   "execution_count": 34,
   "id": "6ec90de4",
   "metadata": {},
   "outputs": [
    {
     "name": "stdout",
     "output_type": "stream",
     "text": [
      "micheal jackson  is a  dancer\n",
      "ar rahman  is a  singer\n",
      "hirthick roshan  is a  actor\n"
     ]
    }
   ],
   "source": [
    "a = ['micheal jackson','ar rahman','hirthick roshan']\n",
    "b = ['dancer','singer','actor']\n",
    "x = 0\n",
    "for i in range(len(a)):\n",
    "    if i == x:                            #used here\n",
    "        print(a[i], \" is a \",b[i])\n",
    "        x += 1\n",
    "    else:\n",
    "        continue"
   ]
  },
  {
   "cell_type": "markdown",
   "id": "dcb565b8",
   "metadata": {},
   "source": [
    "# 7. Identify the three blocks in this code: spam = 0 if spam      ==  10: print('eggs') if spam > 5: print(bacon) else: print(ham) print(spam) print(spam)"
   ]
  },
  {
   "cell_type": "markdown",
   "id": "6911013a",
   "metadata": {},
   "source": [
    "# ANSWER"
   ]
  },
  {
   "cell_type": "code",
   "execution_count": 35,
   "id": "359c89e7",
   "metadata": {},
   "outputs": [
    {
     "name": "stdout",
     "output_type": "stream",
     "text": [
      "ham\n",
      "spam\n",
      "spam\n"
     ]
    }
   ],
   "source": [
    "spam = 0\n",
    "if spam ==10:\n",
    "    print(\"eggs\")\n",
    "elif spam > 5:\n",
    "    print(\"bacon\")\n",
    "else:\n",
    "    print(\"ham\")\n",
    "    print(\"spam\")\n",
    "    print(\"spam\")"
   ]
  },
  {
   "cell_type": "markdown",
   "id": "d2668ce9",
   "metadata": {},
   "source": [
    "# 8. Write code that prints Hello if 1 is stored in spam, prints Howdy if 2 is stored in spam, and printsGreetings! if anything else is stored in spam."
   ]
  },
  {
   "cell_type": "markdown",
   "id": "e7b199aa",
   "metadata": {},
   "source": [
    "# ANSWER"
   ]
  },
  {
   "cell_type": "code",
   "execution_count": 42,
   "id": "534a3646",
   "metadata": {},
   "outputs": [
    {
     "name": "stdout",
     "output_type": "stream",
     "text": [
      "hello\n",
      "howdy\n",
      "welcome\n"
     ]
    }
   ],
   "source": [
    "spam = [1,2,3]\n",
    "for i in spam:\n",
    "    if i == 1:\n",
    "        print(\"hello\")\n",
    "    elif i == 2:\n",
    "        print(\"howdy\")\n",
    "    else:\n",
    "        print(\"welcome\")"
   ]
  },
  {
   "cell_type": "markdown",
   "id": "43467ee2",
   "metadata": {},
   "source": [
    "# 9.If your programme is stuck in an endless loop, what keys you’ll press?"
   ]
  },
  {
   "cell_type": "markdown",
   "id": "779bdf86",
   "metadata": {},
   "source": [
    "# ANSWER"
   ]
  },
  {
   "cell_type": "code",
   "execution_count": 43,
   "id": "ba3e9a2f",
   "metadata": {},
   "outputs": [],
   "source": [
    "#CTRL + C = STOP EXECUTION AND TERMINATE"
   ]
  },
  {
   "cell_type": "markdown",
   "id": "6fb7893d",
   "metadata": {},
   "source": [
    "# 10. How can you tell the difference between break and continue?"
   ]
  },
  {
   "cell_type": "markdown",
   "id": "754db99a",
   "metadata": {},
   "source": [
    "# ANSWER"
   ]
  },
  {
   "cell_type": "code",
   "execution_count": 46,
   "id": "9aef2751",
   "metadata": {},
   "outputs": [
    {
     "name": "stdout",
     "output_type": "stream",
     "text": [
      "0 continue\n",
      "1 continue\n",
      "2 continue\n",
      "3 continue\n",
      "4 break\n"
     ]
    }
   ],
   "source": [
    "for i in range(10):\n",
    "    if i <= 3:\n",
    "        print(i,\"continue\")\n",
    "        continue\n",
    "    elif i >= 4:\n",
    "        print(i,\"break\")\n",
    "        break"
   ]
  },
  {
   "cell_type": "code",
   "execution_count": 47,
   "id": "c558dedd",
   "metadata": {},
   "outputs": [],
   "source": [
    "#break will completely break the statement and the stop executing the concerned code\n",
    "#continue jump to next iteration"
   ]
  },
  {
   "cell_type": "markdown",
   "id": "71ef2484",
   "metadata": {},
   "source": [
    "# 11. In a for loop, what is the difference between range(10), range(0, 10), and range(0, 10, 1)?"
   ]
  },
  {
   "cell_type": "markdown",
   "id": "23a49d87",
   "metadata": {},
   "source": [
    "# ANSWER"
   ]
  },
  {
   "cell_type": "code",
   "execution_count": 50,
   "id": "68e08e34",
   "metadata": {},
   "outputs": [
    {
     "name": "stdout",
     "output_type": "stream",
     "text": [
      "\n",
      " $ \n",
      " $  $ \n",
      " $  $  $ \n",
      " $  $  $  $ \n",
      " $  $  $  $  $ \n",
      " $  $  $  $  $  $ \n",
      " $  $  $  $  $  $  $ \n",
      " $  $  $  $  $  $  $  $ \n",
      " $  $  $  $  $  $  $  $  $ \n",
      "\n",
      " $ \n",
      " $  $ \n",
      " $  $  $ \n",
      " $  $  $  $ \n",
      " $  $  $  $  $ \n",
      " $  $  $  $  $  $ \n",
      " $  $  $  $  $  $  $ \n",
      " $  $  $  $  $  $  $  $ \n",
      " $  $  $  $  $  $  $  $  $ \n",
      "\n",
      " $ \n",
      " $  $ \n",
      " $  $  $ \n",
      " $  $  $  $ \n",
      " $  $  $  $  $ \n",
      " $  $  $  $  $  $ \n",
      " $  $  $  $  $  $  $ \n",
      " $  $  $  $  $  $  $  $ \n",
      " $  $  $  $  $  $  $  $  $ \n"
     ]
    }
   ],
   "source": [
    "for i in range(10):\n",
    "    print(i*\" $ \")\n",
    "for i in range(0,10):\n",
    "    print(i*\" $ \")\n",
    "for i in range(0,10,1):\n",
    "    print(i*\" $ \")"
   ]
  },
  {
   "cell_type": "code",
   "execution_count": 51,
   "id": "77e94b8f",
   "metadata": {},
   "outputs": [],
   "source": [
    "#there is no difference between all the three because they have same meaning with slight change there can be a difference\n",
    "#example:\n",
    "#range(10) == range(0,10) == range(0,10,1)\n",
    "\n",
    "#example if difference is there:\n",
    "#range(10) != range(1,10) != range(0,10,-1)    "
   ]
  },
  {
   "cell_type": "markdown",
   "id": "7a035066",
   "metadata": {},
   "source": [
    "# 12. Write a short program that prints the numbers 1 to 10 using a for loop. Then write an equivalent program that prints the numbers 1 to 10 using a while loop."
   ]
  },
  {
   "cell_type": "markdown",
   "id": "2c52070a",
   "metadata": {},
   "source": [
    "# ANSWER"
   ]
  },
  {
   "cell_type": "code",
   "execution_count": 53,
   "id": "1073a9c5",
   "metadata": {},
   "outputs": [
    {
     "name": "stdout",
     "output_type": "stream",
     "text": [
      "12345678910"
     ]
    }
   ],
   "source": [
    "for i in range(1,11):\n",
    "    print(i , end = '')"
   ]
  },
  {
   "cell_type": "code",
   "execution_count": 55,
   "id": "10d9c239",
   "metadata": {},
   "outputs": [
    {
     "name": "stdout",
     "output_type": "stream",
     "text": [
      "12345678910"
     ]
    }
   ],
   "source": [
    "i = 1\n",
    "while i <=10:\n",
    "    print(i,end=\"\")\n",
    "    i += 1"
   ]
  },
  {
   "cell_type": "markdown",
   "id": "0b9d0d16",
   "metadata": {},
   "source": [
    "# 13. If you had a function named bacon() inside a module named spam, how would you call it after importing spam?"
   ]
  },
  {
   "cell_type": "markdown",
   "id": "87d30788",
   "metadata": {},
   "source": [
    "# ANSWER"
   ]
  },
  {
   "cell_type": "code",
   "execution_count": 57,
   "id": "0176fec2",
   "metadata": {},
   "outputs": [],
   "source": [
    "# two ways \n",
    "\n",
    "#hard way\n",
    "\n",
    "#import spam\n",
    "#spam.bacon()\n",
    "\n",
    "#easy way\n",
    "\n",
    "#from spam import bacon\n",
    "#bacon()"
   ]
  },
  {
   "cell_type": "code",
   "execution_count": 59,
   "id": "4e0c3aef",
   "metadata": {},
   "outputs": [
    {
     "data": {
      "text/plain": [
       "13.30413469565007"
      ]
     },
     "execution_count": 59,
     "metadata": {},
     "output_type": "execute_result"
    }
   ],
   "source": [
    "#example\n",
    "import math\n",
    "math.sqrt(177)"
   ]
  },
  {
   "cell_type": "code",
   "execution_count": 60,
   "id": "e01fb621",
   "metadata": {},
   "outputs": [
    {
     "data": {
      "text/plain": [
       "13.30413469565007"
      ]
     },
     "execution_count": 60,
     "metadata": {},
     "output_type": "execute_result"
    }
   ],
   "source": [
    "from math import sqrt\n",
    "sqrt(177)"
   ]
  },
  {
   "cell_type": "markdown",
   "id": "234df1e6",
   "metadata": {},
   "source": [
    "# THANK YOU"
   ]
  }
 ],
 "metadata": {
  "kernelspec": {
   "display_name": "Python 3.11",
   "language": "python",
   "name": "python3.11"
  },
  "language_info": {
   "codemirror_mode": {
    "name": "ipython",
    "version": 3
   },
   "file_extension": ".py",
   "mimetype": "text/x-python",
   "name": "python",
   "nbconvert_exporter": "python",
   "pygments_lexer": "ipython3",
   "version": "3.11.3"
  }
 },
 "nbformat": 4,
 "nbformat_minor": 5
}
