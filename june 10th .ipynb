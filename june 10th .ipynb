{
 "cells": [
  {
   "cell_type": "markdown",
   "id": "23324b18",
   "metadata": {},
   "source": [
    "# 1. In Python, what is the difference between a built-in function and a user-defined function? Provide an\n",
    "example of each."
   ]
  },
  {
   "cell_type": "markdown",
   "id": "fa89d342",
   "metadata": {},
   "source": [
    "# ANSWER"
   ]
  },
  {
   "cell_type": "code",
   "execution_count": 1,
   "id": "6c974341",
   "metadata": {},
   "outputs": [],
   "source": [
    "#for a use defined function we need to create a condition inside the function for the requirement \n",
    "#for example\n",
    "#we dont need to import anything we want to define the function\n",
    "\n",
    "def square(x):\n",
    "    return x ** 2"
   ]
  },
  {
   "cell_type": "code",
   "execution_count": 2,
   "id": "b9e72339",
   "metadata": {},
   "outputs": [
    {
     "data": {
      "text/plain": [
       "100"
      ]
     },
     "execution_count": 2,
     "metadata": {},
     "output_type": "execute_result"
    }
   ],
   "source": [
    "square(10)"
   ]
  },
  {
   "cell_type": "code",
   "execution_count": 3,
   "id": "24cf86f9",
   "metadata": {},
   "outputs": [
    {
     "data": {
      "text/plain": [
       "6"
      ]
     },
     "execution_count": 3,
     "metadata": {},
     "output_type": "execute_result"
    }
   ],
   "source": [
    "#for a build in function we dont need to create any thing or give any condition\n",
    "#for example\n",
    "\n",
    "len(\"sharan\")"
   ]
  },
  {
   "cell_type": "markdown",
   "id": "4b8d789c",
   "metadata": {},
   "source": [
    "# 2. How can you pass arguments to a function in Python? Explain the difference between \n",
    "positional\n",
    "arguments and keyword arguments."
   ]
  },
  {
   "cell_type": "markdown",
   "id": "68038bb7",
   "metadata": {},
   "source": [
    "# ANSWER"
   ]
  },
  {
   "cell_type": "code",
   "execution_count": 4,
   "id": "81f3814d",
   "metadata": {},
   "outputs": [],
   "source": [
    "#positional argument we give the position for the argument \n",
    "def ma(a,b):\n",
    "    m = a/b\n",
    "    return m"
   ]
  },
  {
   "cell_type": "code",
   "execution_count": 5,
   "id": "b463e694",
   "metadata": {},
   "outputs": [
    {
     "data": {
      "text/plain": [
       "25.0"
      ]
     },
     "execution_count": 5,
     "metadata": {},
     "output_type": "execute_result"
    }
   ],
   "source": [
    "ma(50,2)"
   ]
  },
  {
   "cell_type": "code",
   "execution_count": 6,
   "id": "cb80109a",
   "metadata": {},
   "outputs": [
    {
     "data": {
      "text/plain": [
       "0.04"
      ]
     },
     "execution_count": 6,
     "metadata": {},
     "output_type": "execute_result"
    }
   ],
   "source": [
    "#keyword argument is we will have a key for every value we apply in the function \n",
    "#for example \n",
    "ma(a=2,b=50)"
   ]
  },
  {
   "cell_type": "markdown",
   "id": "d37a923f",
   "metadata": {},
   "source": [
    "# 3. What is the purpose of the return statement in a function? Can a function have multiple returnstatements?\n",
    "Explain with an example."
   ]
  },
  {
   "cell_type": "markdown",
   "id": "2108a991",
   "metadata": {},
   "source": [
    "# ANSWER"
   ]
  },
  {
   "cell_type": "code",
   "execution_count": 7,
   "id": "f30bf03b",
   "metadata": {},
   "outputs": [],
   "source": [
    "## x#the purpose of return statement in a function is to givve an proper output rather than printing\n",
    "#for example\n",
    "def fun(x):\n",
    "    x = x**2\n",
    "    return x"
   ]
  },
  {
   "cell_type": "code",
   "execution_count": 8,
   "id": "594fcf7a",
   "metadata": {},
   "outputs": [
    {
     "data": {
      "text/plain": [
       "4"
      ]
     },
     "execution_count": 8,
     "metadata": {},
     "output_type": "execute_result"
    }
   ],
   "source": [
    "fun(2)"
   ]
  },
  {
   "cell_type": "code",
   "execution_count": 9,
   "id": "5839f806",
   "metadata": {},
   "outputs": [],
   "source": [
    "## we can have multiple output for example only inside if statement\n",
    "def fun(x):\n",
    "    x = x**2\n",
    "    if x > 5:\n",
    "        return x\n",
    "    else:\n",
    "        return \"its lesser than 5\""
   ]
  },
  {
   "cell_type": "code",
   "execution_count": 10,
   "id": "98f97e8b",
   "metadata": {},
   "outputs": [
    {
     "data": {
      "text/plain": [
       "'its lesser than 5'"
      ]
     },
     "execution_count": 10,
     "metadata": {},
     "output_type": "execute_result"
    }
   ],
   "source": [
    "fun(2)"
   ]
  },
  {
   "cell_type": "code",
   "execution_count": 11,
   "id": "3ac7a35e",
   "metadata": {},
   "outputs": [
    {
     "data": {
      "text/plain": [
       "16"
      ]
     },
     "execution_count": 11,
     "metadata": {},
     "output_type": "execute_result"
    }
   ],
   "source": [
    "fun(4)"
   ]
  },
  {
   "cell_type": "markdown",
   "id": "f2be05ad",
   "metadata": {},
   "source": [
    "# 4. What are lambda functions in Python? How are they different from regular functions? Provide an\n",
    "example where a lambda function can be useful."
   ]
  },
  {
   "cell_type": "markdown",
   "id": "4bc53074",
   "metadata": {},
   "source": [
    "# ANSWER"
   ]
  },
  {
   "cell_type": "code",
   "execution_count": 12,
   "id": "3b3d4316",
   "metadata": {},
   "outputs": [
    {
     "data": {
      "text/plain": [
       "2"
      ]
     },
     "execution_count": 12,
     "metadata": {},
     "output_type": "execute_result"
    }
   ],
   "source": [
    "#normal function \n",
    "def add(a,b):\n",
    "    result = a+b\n",
    "    return result\n",
    "add(1,1)"
   ]
  },
  {
   "cell_type": "code",
   "execution_count": 13,
   "id": "885a603b",
   "metadata": {},
   "outputs": [
    {
     "name": "stdout",
     "output_type": "stream",
     "text": [
      "2\n"
     ]
    }
   ],
   "source": [
    "#lamda function \n",
    "add = lambda a,b:a + b\n",
    "print(add(1,1))"
   ]
  },
  {
   "cell_type": "code",
   "execution_count": 14,
   "id": "a95fe16d",
   "metadata": {},
   "outputs": [],
   "source": [
    "# lambda function is also called as anonomous function \n",
    "#for example we can call the lambda function for small operations \n",
    "y = lambda x: x**2 "
   ]
  },
  {
   "cell_type": "code",
   "execution_count": 15,
   "id": "61c1d010",
   "metadata": {},
   "outputs": [
    {
     "data": {
      "text/plain": [
       "36"
      ]
     },
     "execution_count": 15,
     "metadata": {},
     "output_type": "execute_result"
    }
   ],
   "source": [
    "y(6)"
   ]
  },
  {
   "cell_type": "markdown",
   "id": "9f24fcc9",
   "metadata": {},
   "source": [
    "# 5. How does the concept of \"scope\" apply to functions in Python? Explain the difference between local\n",
    "scope and global scope."
   ]
  },
  {
   "cell_type": "markdown",
   "id": "923760f3",
   "metadata": {},
   "source": [
    "# ANSWER"
   ]
  },
  {
   "cell_type": "code",
   "execution_count": 16,
   "id": "1198059d",
   "metadata": {},
   "outputs": [
    {
     "name": "stdout",
     "output_type": "stream",
     "text": [
      "5\n"
     ]
    }
   ],
   "source": [
    "#In Python, the concept of \"scope\" refers to the visibility and accessibility of variables within different parts of your code.\n",
    "#It determines where in the code a variable can be accessed and modified.\n",
    "#example:\n",
    "def local(): \n",
    "    x = 5\n",
    "    print(x)\n",
    "local()"
   ]
  },
  {
   "cell_type": "code",
   "execution_count": 17,
   "id": "a387943f",
   "metadata": {},
   "outputs": [
    {
     "name": "stdout",
     "output_type": "stream",
     "text": [
      "12\n"
     ]
    }
   ],
   "source": [
    "y = 10\n",
    "def global_():\n",
    "    global y\n",
    "    x = y + 2\n",
    "    print(x)\n",
    "global_()"
   ]
  },
  {
   "cell_type": "markdown",
   "id": "6b48a362",
   "metadata": {},
   "source": [
    "# 6. How can you use the \"return\" statement in a Python function to return multiple values?"
   ]
  },
  {
   "cell_type": "markdown",
   "id": "a0f05f34",
   "metadata": {},
   "source": [
    "# ANSWER"
   ]
  },
  {
   "cell_type": "code",
   "execution_count": 18,
   "id": "09138095",
   "metadata": {},
   "outputs": [],
   "source": [
    "def sqrt_(x,y,z):\n",
    "    sqrt_x = x**2\n",
    "    sqrt_y = y**2\n",
    "    sqrt_z = z**2\n",
    "    return[sqrt_x,sqrt_y,sqrt_z]"
   ]
  },
  {
   "cell_type": "code",
   "execution_count": 19,
   "id": "d84eaa04",
   "metadata": {},
   "outputs": [
    {
     "data": {
      "text/plain": [
       "[4, 25, 49]"
      ]
     },
     "execution_count": 19,
     "metadata": {},
     "output_type": "execute_result"
    }
   ],
   "source": [
    "sqrt_(2,5,7)"
   ]
  },
  {
   "cell_type": "code",
   "execution_count": 20,
   "id": "3eaad52f",
   "metadata": {},
   "outputs": [],
   "source": [
    "def sqrt_(x,y,z):\n",
    "    sqrt_x = x**2\n",
    "    sqrt_y = y**2\n",
    "    sqrt_z = z**2\n",
    "    return(sqrt_x,sqrt_y,sqrt_z)"
   ]
  },
  {
   "cell_type": "code",
   "execution_count": 21,
   "id": "5f928f36",
   "metadata": {},
   "outputs": [
    {
     "data": {
      "text/plain": [
       "(9, 36, 64)"
      ]
     },
     "execution_count": 21,
     "metadata": {},
     "output_type": "execute_result"
    }
   ],
   "source": [
    "sqrt_(3,6,8)"
   ]
  },
  {
   "cell_type": "markdown",
   "id": "373fb8cf",
   "metadata": {},
   "source": [
    "# 7. What is the difference between the \"pass by value\" and \"pass by reference\" concepts when it comes to function arguments in Python?"
   ]
  },
  {
   "cell_type": "markdown",
   "id": "27585855",
   "metadata": {},
   "source": [
    "# ANSWER"
   ]
  },
  {
   "cell_type": "code",
   "execution_count": 31,
   "id": "50e61f86",
   "metadata": {},
   "outputs": [
    {
     "name": "stdout",
     "output_type": "stream",
     "text": [
      "10\n",
      "5\n"
     ]
    }
   ],
   "source": [
    "x = 5\n",
    "def fun(x):\n",
    "    x = x + x\n",
    "    print(x)\n",
    "fun(x)               #pass by value and it will not chnage in the base variabale\n",
    "print(x)             #x inside the fun = 10   x outside the fun = 5"
   ]
  },
  {
   "cell_type": "code",
   "execution_count": 33,
   "id": "3b780058",
   "metadata": {},
   "outputs": [
    {
     "name": "stdout",
     "output_type": "stream",
     "text": [
      "[5, 10, 10]\n",
      "[5, 10, 10]\n"
     ]
    }
   ],
   "source": [
    "x = [5,10]\n",
    "def fun(x):\n",
    "    x.append(10)\n",
    "    print(x)\n",
    "fun(x)        #so both are same they just want to append\n",
    "print(x)      #inside and outside ther function are same"
   ]
  },
  {
   "cell_type": "markdown",
   "id": "72a35fb2",
   "metadata": {},
   "source": [
    "# 8. Create a function that can intake integer or decimal value and do following operations:\n",
    "a. Logarithmic function (log x)\n",
    "\n",
    "b. Exponential function (exp(x))\n",
    "\n",
    "c. Power function with base 2 (2\n",
    "x\n",
    ")\n",
    "\n",
    "d. Square root"
   ]
  },
  {
   "cell_type": "markdown",
   "id": "69e3adf1",
   "metadata": {},
   "source": [
    "# ANSWER"
   ]
  },
  {
   "cell_type": "code",
   "execution_count": 34,
   "id": "43df0a6b",
   "metadata": {},
   "outputs": [],
   "source": [
    "def logarithmic_function(x):\n",
    "    try:\n",
    "        return round(float(x), 6), round(x ** 0.43429448190325176, 6)\n",
    "    except ValueError:\n",
    "        return \"Invalid input. Please provide a numeric value.\"\n",
    "\n",
    "def exponential_function(x):\n",
    "    try:\n",
    "        return round(float(x), 6), round(2.718281828459045 ** x, 6)\n",
    "    except ValueError:\n",
    "        return \"Invalid input. Please provide a numeric value.\"\n",
    "\n",
    "def power_function_base2(x):\n",
    "    try:\n",
    "        return round(float(x), 6), round(2 ** x, 6)\n",
    "    except ValueError:\n",
    "        return \"Invalid input. Please provide a numeric value.\"\n",
    "\n",
    "def square_root(x):\n",
    "    try:\n",
    "        return round(float(x), 6), round(x ** 0.5, 6)\n",
    "    except ValueError:\n",
    "        return \"Invalid input. Please provide a numeric value.\""
   ]
  },
  {
   "cell_type": "code",
   "execution_count": 35,
   "id": "030703a0",
   "metadata": {},
   "outputs": [
    {
     "name": "stdout",
     "output_type": "stream",
     "text": [
      "(10.0, 2.718282)\n",
      "(2.0, 7.389056)\n",
      "(3.0, 8)\n",
      "(25.0, 5.0)\n"
     ]
    }
   ],
   "source": [
    "print(logarithmic_function(10))       \n",
    "print(exponential_function(2))        \n",
    "print(power_function_base2(3))        \n",
    "print(square_root(25))                "
   ]
  },
  {
   "cell_type": "markdown",
   "id": "c87ed874",
   "metadata": {},
   "source": [
    "# 9. Create a function that takes a full name as an argument and returns first name and last name."
   ]
  },
  {
   "cell_type": "markdown",
   "id": "17c0a16e",
   "metadata": {},
   "source": [
    "# ANSWER"
   ]
  },
  {
   "cell_type": "code",
   "execution_count": 39,
   "id": "a6ebf100",
   "metadata": {},
   "outputs": [],
   "source": [
    "def fullname(x):\n",
    "    split = x.strip().split()\n",
    "    first = split[0]\n",
    "    if len(split) > 0:\n",
    "        last = split[-1]\n",
    "    return first , last"
   ]
  },
  {
   "cell_type": "code",
   "execution_count": 40,
   "id": "bfb021a1",
   "metadata": {},
   "outputs": [
    {
     "name": "stdout",
     "output_type": "stream",
     "text": [
      "sharan firstname\n",
      "ashokan lastname\n"
     ]
    }
   ],
   "source": [
    "x , y = fullname(\"sharan ashokan\")\n",
    "print(x,\"firstname\")\n",
    "print(y,\"lastname\")"
   ]
  },
  {
   "cell_type": "code",
   "execution_count": 47,
   "id": "30e1f5ac",
   "metadata": {},
   "outputs": [],
   "source": [
    "#we use split for example\n",
    "a = \" mukesh ambani \""
   ]
  },
  {
   "cell_type": "code",
   "execution_count": 48,
   "id": "607ef3ca",
   "metadata": {},
   "outputs": [
    {
     "data": {
      "text/plain": [
       "['mukesh', 'ambani']"
      ]
     },
     "execution_count": 48,
     "metadata": {},
     "output_type": "execute_result"
    }
   ],
   "source": [
    "a.split()"
   ]
  },
  {
   "cell_type": "code",
   "execution_count": 49,
   "id": "7a51b248",
   "metadata": {},
   "outputs": [
    {
     "data": {
      "text/plain": [
       "'mukesh ambani'"
      ]
     },
     "execution_count": 49,
     "metadata": {},
     "output_type": "execute_result"
    }
   ],
   "source": [
    "a.strip()"
   ]
  },
  {
   "cell_type": "markdown",
   "id": "bd527ba4",
   "metadata": {},
   "source": [
    "# THANK YOU"
   ]
  }
 ],
 "metadata": {
  "kernelspec": {
   "display_name": "Python 3.11",
   "language": "python",
   "name": "python3.11"
  },
  "language_info": {
   "codemirror_mode": {
    "name": "ipython",
    "version": 3
   },
   "file_extension": ".py",
   "mimetype": "text/x-python",
   "name": "python",
   "nbconvert_exporter": "python",
   "pygments_lexer": "ipython3",
   "version": "3.11.3"
  }
 },
 "nbformat": 4,
 "nbformat_minor": 5
}
