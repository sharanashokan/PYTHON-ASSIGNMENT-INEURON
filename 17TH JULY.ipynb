{
 "cells": [
  {
   "cell_type": "markdown",
   "id": "a167b4a7",
   "metadata": {},
   "source": [
    "# 1. What is the role of try and exception block?"
   ]
  },
  {
   "cell_type": "markdown",
   "id": "fa1d3602",
   "metadata": {},
   "source": [
    "# ANSWER"
   ]
  },
  {
   "cell_type": "code",
   "execution_count": 1,
   "id": "25eed48b",
   "metadata": {},
   "outputs": [
    {
     "name": "stdout",
     "output_type": "stream",
     "text": [
      "Enter a number: 0\n",
      "Error: Cannot divide by zero.\n"
     ]
    }
   ],
   "source": [
    "try:\n",
    "    num = int(input(\"Enter a number: \"))\n",
    "    result = 10 / num\n",
    "    print(\"Result:\", result)\n",
    "except ZeroDivisionError:\n",
    "    print(\"Error: Cannot divide by zero.\")\n",
    "except ValueError:\n",
    "    print(\"Error: Invalid input. Please enter a valid number.\")"
   ]
  },
  {
   "cell_type": "code",
   "execution_count": 2,
   "id": "a7a3eb4a",
   "metadata": {},
   "outputs": [],
   "source": [
    "#if we use try and except blow it will indicate \n",
    "#if we gone through errors or invalid formats rather the crashing the code"
   ]
  },
  {
   "cell_type": "markdown",
   "id": "84ffe97f",
   "metadata": {},
   "source": [
    "# 2. What is the syntax for a basic try-except block?"
   ]
  },
  {
   "cell_type": "markdown",
   "id": "e3072cf8",
   "metadata": {},
   "source": [
    "# ANSWER"
   ]
  },
  {
   "cell_type": "code",
   "execution_count": 3,
   "id": "9880e6f8",
   "metadata": {},
   "outputs": [
    {
     "name": "stdout",
     "output_type": "stream",
     "text": [
      "Error: Division by zero.\n"
     ]
    }
   ],
   "source": [
    "try:\n",
    "    y = 2 % 0\n",
    "    print(y)\n",
    "except ZeroDivisionError:\n",
    "    print(\"Error: Division by zero.\")"
   ]
  },
  {
   "cell_type": "markdown",
   "id": "6f816b68",
   "metadata": {},
   "source": [
    "# 3. What happens if an exception occurs inside a try block and there is no matching except block?"
   ]
  },
  {
   "cell_type": "markdown",
   "id": "bd8cb886",
   "metadata": {},
   "source": [
    "# ANSWER"
   ]
  },
  {
   "cell_type": "code",
   "execution_count": 4,
   "id": "c1854451",
   "metadata": {},
   "outputs": [
    {
     "ename": "ZeroDivisionError",
     "evalue": "division by zero",
     "output_type": "error",
     "traceback": [
      "\u001b[1;31m---------------------------------------------------------------------------\u001b[0m",
      "\u001b[1;31mZeroDivisionError\u001b[0m                         Traceback (most recent call last)",
      "Cell \u001b[1;32mIn[4], line 9\u001b[0m\n\u001b[0;32m      1\u001b[0m \u001b[38;5;66;03m#here is the problem which will \u001b[39;00m\n\u001b[0;32m      2\u001b[0m \n\u001b[0;32m      3\u001b[0m \u001b[38;5;66;03m#if exception occurs inside a try i will not \u001b[39;00m\n\u001b[0;32m      4\u001b[0m \u001b[38;5;66;03m#read the except because not in a proper place\u001b[39;00m\n\u001b[0;32m      5\u001b[0m \n\u001b[0;32m      6\u001b[0m \u001b[38;5;66;03m#example for no matching except block\u001b[39;00m\n\u001b[0;32m      8\u001b[0m \u001b[38;5;28;01mtry\u001b[39;00m:\n\u001b[1;32m----> 9\u001b[0m     result \u001b[38;5;241m=\u001b[39m \u001b[38;5;241;43m8\u001b[39;49m\u001b[38;5;241;43m/\u001b[39;49m\u001b[38;5;241;43m0\u001b[39;49m\n\u001b[0;32m     10\u001b[0m     \u001b[38;5;28mprint\u001b[39m(result)\n\u001b[0;32m     11\u001b[0m \u001b[38;5;28;01mexcept\u001b[39;00m \u001b[38;5;167;01mValueError\u001b[39;00m:\n",
      "\u001b[1;31mZeroDivisionError\u001b[0m: division by zero"
     ]
    }
   ],
   "source": [
    "#here is the problem which will \n",
    "\n",
    "#if exception occurs inside a try i will not \n",
    "#read the except because not in a proper place\n",
    "\n",
    "#example for no matching except block\n",
    "\n",
    "try:\n",
    "    result = 8/0\n",
    "    print(result)\n",
    "except ValueError:\n",
    "    print(\"invalid except block because we did not include zero division error\")"
   ]
  },
  {
   "cell_type": "code",
   "execution_count": 5,
   "id": "28ff952d",
   "metadata": {},
   "outputs": [
    {
     "name": "stdout",
     "output_type": "stream",
     "text": [
      "error : valid except block because we did include zero division error\n"
     ]
    }
   ],
   "source": [
    "# but when we use the proper matching error statement\n",
    "try:\n",
    "    result = 8/0\n",
    "    print(result)\n",
    "except ZeroDivisionError:\n",
    "    print(\"error : valid except block because we did include zero division error\")"
   ]
  },
  {
   "cell_type": "markdown",
   "id": "11a4bcd4",
   "metadata": {},
   "source": [
    "# 4. What is the difference between using a bare except block and specifying a specific exception type?"
   ]
  },
  {
   "cell_type": "markdown",
   "id": "699ad1cc",
   "metadata": {},
   "source": [
    "# ANSWER"
   ]
  },
  {
   "cell_type": "code",
   "execution_count": 6,
   "id": "c80ed03b",
   "metadata": {},
   "outputs": [
    {
     "name": "stdout",
     "output_type": "stream",
     "text": [
      "some exception occured\n"
     ]
    }
   ],
   "source": [
    "#bare except block is like just giving some warning \n",
    "#example\n",
    "try:\n",
    "    result = 1/0\n",
    "    print(result)\n",
    "except:\n",
    "    print(\"some exception occured\")\n",
    "#we do not sepcify he problem its just giving warning that you have some problem"
   ]
  },
  {
   "cell_type": "code",
   "execution_count": 7,
   "id": "a6144edb",
   "metadata": {},
   "outputs": [
    {
     "name": "stdout",
     "output_type": "stream",
     "text": [
      "error : valid except block because we did include zero division error\n"
     ]
    }
   ],
   "source": [
    "#specifying a specific exception type\n",
    "try:\n",
    "    result = 8/0\n",
    "    print(result)\n",
    "except ZeroDivisionError:\n",
    "    print(\"error : valid except block because we did include zero division error\")\n",
    "#we have specified zero division error"
   ]
  },
  {
   "cell_type": "markdown",
   "id": "7751ee2c",
   "metadata": {},
   "source": [
    "# 5. Can you have nested try-except blocks in Python? If yes, then give an example."
   ]
  },
  {
   "cell_type": "markdown",
   "id": "7294eb78",
   "metadata": {},
   "source": [
    "# ANSWER"
   ]
  },
  {
   "cell_type": "code",
   "execution_count": 15,
   "id": "c986d329",
   "metadata": {},
   "outputs": [
    {
     "name": "stdout",
     "output_type": "stream",
     "text": [
      "Enter an outer number: 12\n",
      "Enter an inner number: 0\n",
      "Inner number cannot be zero\n",
      "End of program 1.0\n"
     ]
    }
   ],
   "source": [
    "try:\n",
    "    outer_number = int(input(\"Enter an outer number: \"))\n",
    "    try:\n",
    "        inner_number = int(input(\"Enter an inner number: \"))\n",
    "        result = outer_number / inner_number\n",
    "    except ZeroDivisionError:\n",
    "        print(\"Inner number cannot be zero\")\n",
    "except ValueError:\n",
    "    print(\"Invalid input. Please enter a valid number.\")\n",
    "\n",
    "print(\"End of program\",result)"
   ]
  },
  {
   "cell_type": "markdown",
   "id": "b96184ff",
   "metadata": {},
   "source": [
    "# 6. Can we use multiple exception blocks, if yes then give an example."
   ]
  },
  {
   "cell_type": "markdown",
   "id": "e735f46a",
   "metadata": {},
   "source": [
    "# ANSWER"
   ]
  },
  {
   "cell_type": "code",
   "execution_count": 19,
   "id": "9d374920",
   "metadata": {},
   "outputs": [
    {
     "name": "stdout",
     "output_type": "stream",
     "text": [
      "error: zero cannot included\n",
      "its finnaly over\n",
      "programe end here\n"
     ]
    }
   ],
   "source": [
    "try:\n",
    "    result = 12/0\n",
    "    a = 100\n",
    "    print(result)\n",
    "except ZeroDivisionError:\n",
    "    print(\"error: zero cannot included\")\n",
    "except ValueError:\n",
    "    print(\"value error has occured\")\n",
    "except Exception as e:\n",
    "    print(f\"error occured in : {e}\")\n",
    "finally:\n",
    "    print(\"its finnaly over\")\n",
    "print(\"programe end here\")"
   ]
  },
  {
   "cell_type": "markdown",
   "id": "f7cfef60",
   "metadata": {},
   "source": [
    "# 7. Write the reason due to which following errors are raised:\n",
    "a. EOFError\n",
    "b. FloatingPointError\n",
    "c. IndexError\n",
    "d. MemoryError\n",
    "e. OverflowError\n",
    "f. TabError\n",
    "g. ValueError"
   ]
  },
  {
   "cell_type": "markdown",
   "id": "5e4024e9",
   "metadata": {},
   "source": [
    "# ANSWER"
   ]
  },
  {
   "cell_type": "code",
   "execution_count": 20,
   "id": "7b0c16a3",
   "metadata": {},
   "outputs": [],
   "source": [
    "#a. EOFError: Raised when there's an attempt to read beyond \n",
    "#the end of a file or input stream.\n",
    "\n",
    "#b. FloatingPointError: Raised when a floating-point arithmetic operation fails,\n",
    "#such as division by zero or an undefined result.\n",
    "\n",
    "#c. IndexError: Raised when an index for a sequence \n",
    "#(e.g., list, string) is out of range.\n",
    "\n",
    "#d. MemoryError: Raised when a program runs out of available memory to allocate.\n",
    "\n",
    "#e. OverflowError: Raised when a numerical operation exceeds the representationallimits of a \n",
    "#data type.\n",
    "\n",
    "#f. TabError: Raised when there are inconsistencies in using tabs and spaces for indentation.\n",
    "\n",
    "#g. ValueError: Raised when a function receives an argument of the correct type \n",
    "#but with an inappropriate value."
   ]
  },
  {
   "cell_type": "markdown",
   "id": "5de55c67",
   "metadata": {},
   "source": [
    "# 8. Write code for the following given scenario and add try-exception block to it.\n",
    "a. Program to divide two numbers b. Program to convert a string to an integer c. Program to access an element in a list d. Program to handle a specific exception e. Program to handle any exception"
   ]
  },
  {
   "cell_type": "markdown",
   "id": "cd6bec12",
   "metadata": {},
   "source": [
    "# ANSWER"
   ]
  },
  {
   "cell_type": "code",
   "execution_count": 1,
   "id": "0ed4a436",
   "metadata": {},
   "outputs": [
    {
     "name": "stdout",
     "output_type": "stream",
     "text": [
      "  to handle a specific exception as well as to divide two numbers\n"
     ]
    }
   ],
   "source": [
    "try:\n",
    "    a = 1/0\n",
    "except ZeroDivisionError:\n",
    "    print(\"  to handle a specific exception as well as to divide two numbers\")"
   ]
  },
  {
   "cell_type": "code",
   "execution_count": 2,
   "id": "f73185ae",
   "metadata": {},
   "outputs": [
    {
     "name": "stdout",
     "output_type": "stream",
     "text": [
      "to convert a string to an integer and to handle any exception \n"
     ]
    }
   ],
   "source": [
    "try:\n",
    "    a = \"one\"\n",
    "    b = int(a)\n",
    "    print(b)\n",
    "except:\n",
    "    print(\"to convert a string to an integer and to handle any exception \")"
   ]
  },
  {
   "cell_type": "code",
   "execution_count": 3,
   "id": "a542e36d",
   "metadata": {},
   "outputs": [
    {
     "name": "stdout",
     "output_type": "stream",
     "text": [
      "an error occured\n"
     ]
    }
   ],
   "source": [
    "try:\n",
    "    a = [1,2,4,5,6,7]\n",
    "    print(a(1))\n",
    "except:\n",
    "    print(\"an error occured\")"
   ]
  },
  {
   "cell_type": "code",
   "execution_count": null,
   "id": "ebefe1b1",
   "metadata": {},
   "outputs": [],
   "source": []
  }
 ],
 "metadata": {
  "kernelspec": {
   "display_name": "Python 3.11",
   "language": "python",
   "name": "python3.11"
  },
  "language_info": {
   "codemirror_mode": {
    "name": "ipython",
    "version": 3
   },
   "file_extension": ".py",
   "mimetype": "text/x-python",
   "name": "python",
   "nbconvert_exporter": "python",
   "pygments_lexer": "ipython3",
   "version": "3.11.3"
  }
 },
 "nbformat": 4,
 "nbformat_minor": 5
}
